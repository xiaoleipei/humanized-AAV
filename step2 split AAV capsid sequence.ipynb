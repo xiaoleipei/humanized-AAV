{
 "cells": [
  {
   "cell_type": "code",
   "execution_count": 3,
   "id": "1510e052",
   "metadata": {},
   "outputs": [],
   "source": [
    "import re\n",
    "import pandas as pd\n",
    "import numpy as np\n",
    "from Bio.SeqUtils.ProtParam import ProteinAnalysis"
   ]
  },
  {
   "cell_type": "code",
   "execution_count": 2,
   "id": "c3362069",
   "metadata": {},
   "outputs": [
    {
     "name": "stdout",
     "output_type": "stream",
     "text": [
      "Collecting bioNote: you may need to restart the kernel to use updated packages.\n",
      "  Downloading bio-1.5.9-py3-none-any.whl (276 kB)\n",
      "Collecting mygene\n",
      "\n"
     ]
    },
    {
     "name": "stderr",
     "output_type": "stream",
     "text": [
      "WARNING: Retrying (Retry(total=4, connect=None, read=None, redirect=None, status=None)) after connection broken by 'ConnectTimeoutError(<pip._vendor.urllib3.connection.HTTPSConnection object at 0x000001F5519B44F0>, 'Connection to pypi.org timed out. (connect timeout=15)')': /simple/bio/"
     ]
    },
    {
     "name": "stdout",
     "output_type": "stream",
     "text": [
      "  Downloading mygene-3.2.2-py2.py3-none-any.whl (5.4 kB)\n",
      "Requirement already satisfied: tqdm in c:\\users\\racoon\\anaconda3\\lib\\site-packages (from bio) (4.59.0)\n",
      "Collecting biopython>=1.80\n",
      "  Downloading biopython-1.81-cp38-cp38-win_amd64.whl (2.7 MB)\n",
      "Requirement already satisfied: requests in c:\\users\\racoon\\anaconda3\\lib\\site-packages (from bio) (2.25.1)\n",
      "Collecting gprofiler-official\n",
      "  Downloading gprofiler_official-1.0.0-py3-none-any.whl (9.3 kB)\n",
      "Collecting pooch\n",
      "  Downloading pooch-1.7.0-py3-none-any.whl (60 kB)\n",
      "Requirement already satisfied: pandas in c:\\users\\racoon\\anaconda3\\lib\\site-packages (from bio) (1.2.4)\n",
      "Requirement already satisfied: numpy in c:\\users\\racoon\\anaconda3\\lib\\site-packages (from biopython>=1.80->bio) (1.20.1)\n",
      "Collecting biothings-client>=0.2.6\n",
      "  Downloading biothings_client-0.3.0-py2.py3-none-any.whl (29 kB)\n",
      "Requirement already satisfied: urllib3<1.27,>=1.21.1 in c:\\users\\racoon\\anaconda3\\lib\\site-packages (from requests->bio) (1.26.4)\n",
      "Requirement already satisfied: certifi>=2017.4.17 in c:\\users\\racoon\\anaconda3\\lib\\site-packages (from requests->bio) (2020.12.5)\n",
      "Requirement already satisfied: chardet<5,>=3.0.2 in c:\\users\\racoon\\anaconda3\\lib\\site-packages (from requests->bio) (4.0.0)\n",
      "Requirement already satisfied: idna<3,>=2.5 in c:\\users\\racoon\\anaconda3\\lib\\site-packages (from requests->bio) (2.10)\n",
      "Requirement already satisfied: python-dateutil>=2.7.3 in c:\\users\\racoon\\anaconda3\\lib\\site-packages (from pandas->bio) (2.8.1)\n",
      "Requirement already satisfied: pytz>=2017.3 in c:\\users\\racoon\\anaconda3\\lib\\site-packages (from pandas->bio) (2021.1)\n",
      "Requirement already satisfied: six>=1.5 in c:\\users\\racoon\\anaconda3\\lib\\site-packages (from python-dateutil>=2.7.3->pandas->bio) (1.15.0)\n",
      "Collecting platformdirs>=2.5.0\n",
      "  Downloading platformdirs-3.2.0-py3-none-any.whl (14 kB)\n",
      "Requirement already satisfied: packaging>=20.0 in c:\\users\\racoon\\anaconda3\\lib\\site-packages (from pooch->bio) (20.9)\n",
      "Requirement already satisfied: pyparsing>=2.0.2 in c:\\users\\racoon\\anaconda3\\lib\\site-packages (from packaging>=20.0->pooch->bio) (2.4.7)\n",
      "Installing collected packages: platformdirs, biothings-client, pooch, mygene, gprofiler-official, biopython, bio\n",
      "Successfully installed bio-1.5.9 biopython-1.81 biothings-client-0.3.0 gprofiler-official-1.0.0 mygene-3.2.2 platformdirs-3.2.0 pooch-1.7.0\n"
     ]
    },
    {
     "name": "stderr",
     "output_type": "stream",
     "text": [
      "\n",
      "WARNING: Retrying (Retry(total=3, connect=None, read=None, redirect=None, status=None)) after connection broken by 'ConnectTimeoutError(<pip._vendor.urllib3.connection.HTTPSConnection object at 0x000001F5519B4700>, 'Connection to pypi.org timed out. (connect timeout=15)')': /simple/bio/\n"
     ]
    }
   ],
   "source": [
    "#pip install bio"
   ]
  },
  {
   "cell_type": "code",
   "execution_count": 6,
   "id": "baa202a1",
   "metadata": {},
   "outputs": [],
   "source": [
    "fr=open('AAV_library_aav2.fasta')  # AAV capsid fasta\n",
    "fw=open('./AAV_peptide_lib_aav2.fasta', 'w')  # fasta\n",
    "dict={}\n",
    "\n",
    "for line in fr:\n",
    "         if line.startswith('>'):\n",
    "             name=line.replace('\\n','')\n",
    "         else:\n",
    "                n = len(line)\n",
    "                left = 0;\n",
    "                i=1;\n",
    "                for left in range(0,(n-5)):\n",
    "                     region1=line[left:(left+20)]\n",
    "                     region1=region1.replace('\\n','')\n",
    "                     analyzed_seq = ProteinAnalysis(str(region1))\n",
    "                     hydropho=analyzed_seq.gravy()\n",
    "                     if (hydropho<0):\n",
    "                            fw.write(name+\"-\"+str(i))\n",
    "                            i=i+1\n",
    "                            fw.write('\\n')\n",
    "                            fw.write(region1)\n",
    "                            fw.write('\\n')\n",
    "                            left=left+15\n",
    "                     else:\n",
    "                            left=left+1\n",
    "fr.close()\n",
    "fw.close()"
   ]
  },
  {
   "cell_type": "code",
   "execution_count": null,
   "id": "9c057644",
   "metadata": {},
   "outputs": [],
   "source": []
  }
 ],
 "metadata": {
  "kernelspec": {
   "display_name": "Python 3",
   "language": "python",
   "name": "python3"
  },
  "language_info": {
   "codemirror_mode": {
    "name": "ipython",
    "version": 3
   },
   "file_extension": ".py",
   "mimetype": "text/x-python",
   "name": "python",
   "nbconvert_exporter": "python",
   "pygments_lexer": "ipython3",
   "version": "3.8.8"
  }
 },
 "nbformat": 4,
 "nbformat_minor": 5
}
