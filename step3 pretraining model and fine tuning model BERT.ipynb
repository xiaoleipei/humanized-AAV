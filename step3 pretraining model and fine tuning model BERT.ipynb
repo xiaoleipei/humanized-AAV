{
 "cells": [
  {
   "cell_type": "code",
   "execution_count": null,
   "metadata": {
    "id": "HOk4iZ9YZvec"
   },
   "outputs": [],
   "source": [
    "# in this notebook we'll only get one of the files (the Oscar one) for the sake of simplicity and performance\n",
    "!wget -c https://cdn-datasets.huggingface.co/EsperBERTo/data/oscar.eo.txt"
   ]
  },
  {
   "cell_type": "markdown",
   "metadata": {
    "id": "G-kkz81OY6xH"
   },
   "source": [
    "## 2. Train a tokenizer\n",
    "\n",
    "\n"
   ]
  },
  {
   "cell_type": "code",
   "execution_count": null,
   "metadata": {
    "id": "5duRggBRZKvP"
   },
   "outputs": [],
   "source": [
    "# We won't need TensorFlow here\n",
    "!pip uninstall -y tensorflow\n",
    "# Install `transformers` from master\n",
    "!pip install git+https://github.com/huggingface/transformers\n",
    "!pip list | grep -E 'transformers|tokenizers'\n",
    "# transformers version at notebook update --- 2.11.0\n",
    "# tokenizers version at notebook update --- 0.8.0rc1"
   ]
  },
  {
   "cell_type": "code",
   "execution_count": 1,
   "metadata": {},
   "outputs": [],
   "source": [
    "import pandas as pd\n",
    "\n",
    "aav2= pd.read_csv(\"../huggingface/human_virus2.csv\")\n",
    "\n",
    "\n",
    "aav2[\"sequence\"]=aav2[\"sequence\"].str.upper()\n",
    "\n",
    "aav_data=[]\n",
    "for line in aav2[\"sequence\"]:\n",
    "    line2=line.replace(\"\",\" \")\n",
    "    aav_data.append(line2)\n",
    "    \n",
    "    "
   ]
  },
  {
   "cell_type": "code",
   "execution_count": 2,
   "metadata": {},
   "outputs": [],
   "source": [
    "with open(\"humanized_data.csv\", \"w\", newline='') as csvfile:\n",
    "    for i in aav_data:\n",
    "        csvfile.write(i)\n",
    "\n",
    "        #csvfile.write('\\n')"
   ]
  },
  {
   "cell_type": "code",
   "execution_count": 3,
   "metadata": {
    "colab": {
     "base_uri": "https://localhost:8080/",
     "height": 52
    },
    "id": "IMnymRDLe0hi",
    "outputId": "4d26476f-e6b5-475a-a0c1-41b6fcdc041a"
   },
   "outputs": [
    {
     "name": "stdout",
     "output_type": "stream",
     "text": [
      "Wall time: 12 ms\n"
     ]
    }
   ],
   "source": [
    "%%time \n",
    "from pathlib import Path\n",
    "\n",
    "from tokenizers import ByteLevelBPETokenizer\n",
    "\n",
    "paths = [str(x) for x in Path(\"../huggingface/\").glob(\"humanized_data.csv\")]"
   ]
  },
  {
   "cell_type": "code",
   "execution_count": 4,
   "metadata": {
    "colab": {
     "base_uri": "https://localhost:8080/",
     "height": 52
    },
    "id": "IMnymRDLe0hi",
    "outputId": "4d26476f-e6b5-475a-a0c1-41b6fcdc041a"
   },
   "outputs": [],
   "source": [
    "# Initialize a tokenizer\n",
    "tokenizer = ByteLevelBPETokenizer()"
   ]
  },
  {
   "cell_type": "code",
   "execution_count": 5,
   "metadata": {
    "colab": {
     "base_uri": "https://localhost:8080/",
     "height": 52
    },
    "id": "IMnymRDLe0hi",
    "outputId": "4d26476f-e6b5-475a-a0c1-41b6fcdc041a"
   },
   "outputs": [],
   "source": [
    "# Customize training\n",
    "tokenizer.train(files=paths, vocab_size=52_000, min_frequency=2, special_tokens=[\n",
    "    \"<s>\",\n",
    "    \"<pad>\",\n",
    "    \"</s>\",\n",
    "    \"<unk>\",\n",
    "    \"<mask>\",\n",
    "])"
   ]
  },
  {
   "cell_type": "code",
   "execution_count": 6,
   "metadata": {},
   "outputs": [
    {
     "data": {
      "text/plain": [
       "Tokenizer(vocabulary_size=281, model=ByteLevelBPE, add_prefix_space=False, lowercase=False, dropout=None, unicode_normalizer=None, continuing_subword_prefix=None, end_of_word_suffix=None, trim_offsets=False)"
      ]
     },
     "execution_count": 6,
     "metadata": {},
     "output_type": "execute_result"
    }
   ],
   "source": [
    "tokenizer"
   ]
  },
  {
   "cell_type": "markdown",
   "metadata": {
    "id": "6Ei7bqpRf1LH"
   },
   "source": [
    "Now let's save files to disk"
   ]
  },
  {
   "cell_type": "code",
   "execution_count": 3,
   "metadata": {
    "colab": {
     "base_uri": "https://localhost:8080/",
     "height": 34
    },
    "id": "EIS-irI0f32P",
    "outputId": "e86c4a24-eb65-4f0a-aa58-ed1931a05ac9"
   },
   "outputs": [
    {
     "name": "stderr",
     "output_type": "stream",
     "text": [
      "子目录或文件 EsperBERTo 已经存在。\n"
     ]
    }
   ],
   "source": [
    "!mkdir EsperBERTo"
   ]
  },
  {
   "cell_type": "code",
   "execution_count": 27,
   "metadata": {
    "colab": {
     "base_uri": "https://localhost:8080/",
     "height": 34
    },
    "id": "EIS-irI0f32P",
    "outputId": "e86c4a24-eb65-4f0a-aa58-ed1931a05ac9"
   },
   "outputs": [
    {
     "data": {
      "text/plain": [
       "['../huggingface/models/humanzied_bert\\\\vocab.json',\n",
       " '../huggingface/models/humanzied_bert\\\\merges.txt']"
      ]
     },
     "execution_count": 27,
     "metadata": {},
     "output_type": "execute_result"
    }
   ],
   "source": [
    "tokenizer.save_model(\"../huggingface/models/humanzied_bert\")"
   ]
  },
  {
   "cell_type": "code",
   "execution_count": 7,
   "metadata": {
    "id": "tKVWB8WShT-z"
   },
   "outputs": [],
   "source": [
    "from tokenizers.implementations import ByteLevelBPETokenizer\n",
    "from tokenizers.processors import BertProcessing"
   ]
  },
  {
   "cell_type": "code",
   "execution_count": 8,
   "metadata": {
    "id": "tKVWB8WShT-z"
   },
   "outputs": [],
   "source": [
    "tokenizer = ByteLevelBPETokenizer(\n",
    "    \"../huggingface/models/aav2bert/vocab.json\",\n",
    "    \"../huggingface/models/aav2bert/merges.txt\",\n",
    ")"
   ]
  },
  {
   "cell_type": "code",
   "execution_count": 9,
   "metadata": {
    "id": "hO5M3vrAhcuj"
   },
   "outputs": [],
   "source": [
    "tokenizer._tokenizer.post_processor = BertProcessing(\n",
    "    (\"</s>\", tokenizer.token_to_id(\"</s>\")),\n",
    "    (\"<s>\", tokenizer.token_to_id(\"<s>\")),\n",
    ")\n",
    "tokenizer.enable_truncation(max_length=512)"
   ]
  },
  {
   "cell_type": "code",
   "execution_count": 10,
   "metadata": {
    "colab": {
     "base_uri": "https://localhost:8080/",
     "height": 34
    },
    "id": "E3Ye27nchfzq",
    "outputId": "b9812ed2-1ecd-4e1b-d9bd-7de581955e70"
   },
   "outputs": [
    {
     "data": {
      "text/plain": [
       "Encoding(num_tokens=21, attributes=[ids, type_ids, tokens, offsets, attention_mask, special_tokens_mask, overflowing])"
      ]
     },
     "execution_count": 10,
     "metadata": {},
     "output_type": "execute_result"
    }
   ],
   "source": [
    "tokenizer.encode(\"DGYLPDWLEDNLSEGIREW\")"
   ]
  },
  {
   "cell_type": "markdown",
   "metadata": {
    "id": "WQpUC_CDhnWW"
   },
   "source": [
    "## 3. Train a language model from scratch\n",
    "\n",
    "\n"
   ]
  },
  {
   "cell_type": "code",
   "execution_count": 11,
   "metadata": {
    "colab": {
     "base_uri": "https://localhost:8080/",
     "height": 318
    },
    "id": "kD140sFjh0LQ",
    "outputId": "0bab1f9e-bf7a-4f13-82d3-07fe5866ce78"
   },
   "outputs": [
    {
     "name": "stdout",
     "output_type": "stream",
     "text": [
      "Tue Dec 27 12:51:22 2022       \n",
      "+-----------------------------------------------------------------------------+\n",
      "| NVIDIA-SMI 516.94       Driver Version: 516.94       CUDA Version: 11.7     |\n",
      "|-------------------------------+----------------------+----------------------+\n",
      "| GPU  Name            TCC/WDDM | Bus-Id        Disp.A | Volatile Uncorr. ECC |\n",
      "| Fan  Temp  Perf  Pwr:Usage/Cap|         Memory-Usage | GPU-Util  Compute M. |\n",
      "|                               |                      |               MIG M. |\n",
      "|===============================+======================+======================|\n",
      "|   0  NVIDIA GeForce ... WDDM  | 00000000:03:00.0  On |                  N/A |\n",
      "|  0%   35C    P8     7W / 170W |    540MiB / 12288MiB |      4%      Default |\n",
      "|                               |                      |                  N/A |\n",
      "+-------------------------------+----------------------+----------------------+\n",
      "                                                                               \n",
      "+-----------------------------------------------------------------------------+\n",
      "| Processes:                                                                  |\n",
      "|  GPU   GI   CI        PID   Type   Process name                  GPU Memory |\n",
      "|        ID   ID                                                   Usage      |\n",
      "|=============================================================================|\n",
      "|    0   N/A  N/A      4392    C+G   C:\\Windows\\explorer.exe         N/A      |\n",
      "|    0   N/A  N/A      5096    C+G   ...lPanel\\SystemSettings.exe    N/A      |\n",
      "|    0   N/A  N/A      6120    C+G   ...e\\PhoneExperienceHost.exe    N/A      |\n",
      "|    0   N/A  N/A      6768    C+G   ...ysdiag\\bin\\HipsDaemon.exe    N/A      |\n",
      "|    0   N/A  N/A      9252    C+G   ...bbwe\\Microsoft.Photos.exe    N/A      |\n",
      "|    0   N/A  N/A     10372    C+G   ...wekyb3d8bbwe\\Video.UI.exe    N/A      |\n",
      "|    0   N/A  N/A     11276    C+G   ...5n1h2txyewy\\SearchApp.exe    N/A      |\n",
      "|    0   N/A  N/A     12888    C+G   ...ge\\Application\\msedge.exe    N/A      |\n",
      "|    0   N/A  N/A     14136    C+G   C:\\Windows\\System32\\dwm.exe     N/A      |\n",
      "|    0   N/A  N/A     14220    C+G   ...5n1h2txyewy\\SearchApp.exe    N/A      |\n",
      "|    0   N/A  N/A     14724    C+G   ...2txyewy\\TextInputHost.exe    N/A      |\n",
      "|    0   N/A  N/A     15152    C+G   ...y\\ShellExperienceHost.exe    N/A      |\n",
      "+-----------------------------------------------------------------------------+\n"
     ]
    }
   ],
   "source": [
    "# Check that we have a GPU\n",
    "!nvidia-smi"
   ]
  },
  {
   "cell_type": "code",
   "execution_count": 2,
   "metadata": {
    "colab": {
     "base_uri": "https://localhost:8080/",
     "height": 34
    },
    "id": "VNZZs-r6iKAV",
    "outputId": "c8404d6c-7662-4240-c8da-ee89edfaf51b"
   },
   "outputs": [
    {
     "name": "stderr",
     "output_type": "stream",
     "text": [
      "C:\\Users\\racoon\\anaconda3\\envs\\pytorch\\lib\\site-packages\\tqdm\\auto.py:22: TqdmWarning: IProgress not found. Please update jupyter and ipywidgets. See https://ipywidgets.readthedocs.io/en/stable/user_install.html\n",
      "  from .autonotebook import tqdm as notebook_tqdm\n"
     ]
    },
    {
     "data": {
      "text/plain": [
       "True"
      ]
     },
     "execution_count": 2,
     "metadata": {},
     "output_type": "execute_result"
    }
   ],
   "source": [
    "# Check that PyTorch sees it\n",
    "import torch\n",
    "torch.cuda.is_available()"
   ]
  },
  {
   "cell_type": "markdown",
   "metadata": {
    "id": "u0qQzgrBi1OX"
   },
   "source": [
    "### We'll define the following config for the model"
   ]
  },
  {
   "cell_type": "code",
   "execution_count": 13,
   "metadata": {
    "id": "LTXXutqeDzPi"
   },
   "outputs": [],
   "source": [
    "from transformers import RobertaConfig\n",
    "\n",
    "config = RobertaConfig(\n",
    "    vocab_size=52_000,\n",
    "    max_position_embeddings=514,\n",
    "    num_attention_heads=12,\n",
    "    num_hidden_layers=6,\n",
    "    type_vocab_size=1,\n",
    ")"
   ]
  },
  {
   "cell_type": "markdown",
   "metadata": {
    "id": "yAwQ82JiE5pi"
   },
   "source": [
    "Now let's re-create our tokenizer in transformers"
   ]
  },
  {
   "cell_type": "code",
   "execution_count": 14,
   "metadata": {
    "id": "4keFBUjQFOD1"
   },
   "outputs": [],
   "source": [
    "from transformers import RobertaTokenizerFast\n",
    "\n",
    "tokenizer = RobertaTokenizerFast.from_pretrained(\"../huggingface/models/aav2bert\", max_len=512)"
   ]
  },
  {
   "cell_type": "markdown",
   "metadata": {
    "id": "6yNCw-3hFv9h"
   },
   "source": [
    "Finally let's initialize our model.\n",
    "\n",
    "**Important:**\n",
    "\n",
    "As we are training from scratch, we only initialize from a config, not from an existing pretrained model or checkpoint."
   ]
  },
  {
   "cell_type": "code",
   "execution_count": 15,
   "metadata": {
    "id": "BzMqR-dzF4Ro"
   },
   "outputs": [],
   "source": [
    "from transformers import RobertaForMaskedLM\n",
    "\n",
    "model = RobertaForMaskedLM(config=config)"
   ]
  },
  {
   "cell_type": "code",
   "execution_count": 16,
   "metadata": {
    "colab": {
     "base_uri": "https://localhost:8080/",
     "height": 34
    },
    "id": "jU6JhBSTKiaM",
    "outputId": "35879a60-2915-4894-f702-2d649cfa398a"
   },
   "outputs": [
    {
     "data": {
      "text/plain": [
       "83504416"
      ]
     },
     "execution_count": 16,
     "metadata": {},
     "output_type": "execute_result"
    }
   ],
   "source": [
    "model.num_parameters()\n",
    "# => 84 million parameters"
   ]
  },
  {
   "cell_type": "markdown",
   "metadata": {
    "id": "jBtUHRMliOLM"
   },
   "source": [
    "### Now let's build our training Dataset\n",
    "\n",
    "We'll build our dataset by applying our tokenizer to our text file.\n",
    "\n",
    "Here, as we only have one text file, we don't even need to customize our `Dataset`. We'll just use the `LineByLineDataset` out-of-the-box."
   ]
  },
  {
   "cell_type": "code",
   "execution_count": 17,
   "metadata": {
    "colab": {
     "base_uri": "https://localhost:8080/",
     "height": 52
    },
    "id": "GlvP_A-THEEl",
    "outputId": "e0510a33-7937-4a04-fa1c-d4e20b758bb2"
   },
   "outputs": [
    {
     "name": "stderr",
     "output_type": "stream",
     "text": [
      "C:\\Users\\racoon\\anaconda3\\envs\\pytorch\\lib\\site-packages\\transformers\\data\\datasets\\language_modeling.py:125: FutureWarning: This dataset will be removed from the library soon, preprocessing should be handled with the 🤗 Datasets library. You can have a look at this example script for pointers: https://github.com/huggingface/transformers/blob/main/examples/pytorch/language-modeling/run_mlm.py\n",
      "  FutureWarning,\n"
     ]
    },
    {
     "name": "stdout",
     "output_type": "stream",
     "text": [
      "Wall time: 25.7 s\n"
     ]
    }
   ],
   "source": [
    "%%time\n",
    "from transformers import LineByLineTextDataset\n",
    "\n",
    "dataset = LineByLineTextDataset(\n",
    "    tokenizer=tokenizer,\n",
    "    file_path=\"D:/jupyter_notebook/huggingface/data/humanized_data.csv\",\n",
    "    block_size=128,\n",
    ")"
   ]
  },
  {
   "cell_type": "code",
   "execution_count": 18,
   "metadata": {},
   "outputs": [
    {
     "data": {
      "text/plain": [
       "<transformers.data.datasets.language_modeling.LineByLineTextDataset at 0x17687b99708>"
      ]
     },
     "execution_count": 18,
     "metadata": {},
     "output_type": "execute_result"
    }
   ],
   "source": [
    "dataset"
   ]
  },
  {
   "cell_type": "markdown",
   "metadata": {
    "id": "hDLs73HcIHk5"
   },
   "source": [
    "Like in the [`run_language_modeling.py`](https://github.com/huggingface/transformers/blob/master/examples/language-modeling/run_language_modeling.py) script, we need to define a data_collator.\n",
    "\n",
    "This is just a small helper that will help us batch different samples of the dataset together into an object that PyTorch knows how to perform backprop on."
   ]
  },
  {
   "cell_type": "code",
   "execution_count": 19,
   "metadata": {
    "id": "zTgWPa9Dipk2"
   },
   "outputs": [],
   "source": [
    "from transformers import DataCollatorForLanguageModeling\n",
    "\n",
    "data_collator = DataCollatorForLanguageModeling(\n",
    "    tokenizer=tokenizer, mlm=True, mlm_probability=0.1\n",
    ")"
   ]
  },
  {
   "cell_type": "markdown",
   "metadata": {
    "id": "ri2BIQKqjfHm"
   },
   "source": [
    "### Finally, we are all set to initialize our Trainer"
   ]
  },
  {
   "cell_type": "code",
   "execution_count": 20,
   "metadata": {
    "id": "YpvnFFmZJD-N"
   },
   "outputs": [],
   "source": [
    "from transformers import Trainer, TrainingArguments\n",
    "\n",
    "training_args = TrainingArguments(\n",
    "    output_dir=\"D:/jupyter_notebook/huggingface/models/humanized_bert\",\n",
    "    overwrite_output_dir=True,\n",
    "    num_train_epochs=10,\n",
    "    per_gpu_train_batch_size=128,\n",
    "    save_steps=10_000,\n",
    "    save_total_limit=2,\n",
    "    prediction_loss_only=True,\n",
    ")\n",
    "\n",
    "trainer = Trainer(\n",
    "    model=model,\n",
    "    args=training_args,\n",
    "    data_collator=data_collator,\n",
    "    train_dataset=dataset,\n",
    ")"
   ]
  },
  {
   "cell_type": "markdown",
   "metadata": {
    "id": "o6sASa36Nf-N"
   },
   "source": [
    "### Start training"
   ]
  },
  {
   "cell_type": "code",
   "execution_count": 47,
   "metadata": {
    "colab": {
     "base_uri": "https://localhost:8080/",
     "height": 738,
     "referenced_widgets": [
      "a58a66392b644b1384661e850c077a6c",
      "a491e8caa0a048beb3b5259f14eb233f",
      "837c9ddc3d594e088891874560c646b8",
      "dbf50873d62c4ba39321faefbed0cca5",
      "40bf955ba0284e84b198da6be8654219",
      "fe20a8dae6e84628b5076d02183090f5",
      "93b3f9eae3cb4e3e859cf456e3547c6d",
      "6feb10aeb43147e6aba028d065947ae8",
      "0989d41a4da24e9ebff377e02127642c",
      "42c6061ef7e44f179db5a6e3551c0f17",
      "d295dd80550447d88da0f04ce36a22ff",
      "04e7e6d291da49d5816dc98a2904e95c",
      "e7d8c3a4fecd40778e32966b29ea65a1",
      "016d7c8318f742c1943464b08232a510",
      "8388e9da9da4492c98c19235ca5fc1b5",
      "39c23c6a972b419eb2eeeebafeaedc22"
     ]
    },
    "id": "VmaHZXzmkNtJ",
    "outputId": "a19880cb-bcc6-4885-bf24-c2c6d0f56d1e"
   },
   "outputs": [
    {
     "name": "stderr",
     "output_type": "stream",
     "text": [
      "Using deprecated `--per_gpu_train_batch_size` argument which will be removed in a future version. Using `--per_device_train_batch_size` is preferred.\n",
      "Using deprecated `--per_gpu_train_batch_size` argument which will be removed in a future version. Using `--per_device_train_batch_size` is preferred.\n",
      "C:\\Users\\racoon\\anaconda3\\envs\\pytorch_gpu\\lib\\site-packages\\transformers\\optimization.py:306: FutureWarning: This implementation of AdamW is deprecated and will be removed in a future version. Use thePyTorch implementation torch.optim.AdamW instead, or set `no_deprecation_warning=True` to disable this warning\n",
      "  warnings.warn(\n",
      "***** Running training *****\n",
      "  Num examples = 1\n",
      "  Num Epochs = 10\n",
      "  Instantaneous batch size per device = 8\n",
      "  Total train batch size (w. parallel, distributed & accumulation) = 128\n",
      "  Gradient Accumulation steps = 1\n",
      "  Total optimization steps = 10\n",
      "Using deprecated `--per_gpu_train_batch_size` argument which will be removed in a future version. Using `--per_device_train_batch_size` is preferred.\n"
     ]
    },
    {
     "data": {
      "text/html": [
       "\n",
       "    <div>\n",
       "      \n",
       "      <progress value='10' max='10' style='width:300px; height:20px; vertical-align: middle;'></progress>\n",
       "      [10/10 00:00, Epoch 10/10]\n",
       "    </div>\n",
       "    <table border=\"1\" class=\"dataframe\">\n",
       "  <thead>\n",
       " <tr style=\"text-align: left;\">\n",
       "      <th>Step</th>\n",
       "      <th>Training Loss</th>\n",
       "    </tr>\n",
       "  </thead>\n",
       "  <tbody>\n",
       "  </tbody>\n",
       "</table><p>"
      ],
      "text/plain": [
       "<IPython.core.display.HTML object>"
      ]
     },
     "metadata": {},
     "output_type": "display_data"
    },
    {
     "name": "stderr",
     "output_type": "stream",
     "text": [
      "\n",
      "\n",
      "Training completed. Do not forget to share your model on huggingface.co/models =)\n",
      "\n",
      "\n"
     ]
    },
    {
     "name": "stdout",
     "output_type": "stream",
     "text": [
      "Wall time: 7.08 s\n"
     ]
    },
    {
     "data": {
      "text/plain": [
       "TrainOutput(global_step=10, training_loss=9.237300872802734, metrics={'train_runtime': 7.0424, 'train_samples_per_second': 1.42, 'train_steps_per_second': 1.42, 'total_flos': 331567841280.0, 'train_loss': 9.237300872802734, 'epoch': 10.0})"
      ]
     },
     "execution_count": 47,
     "metadata": {},
     "output_type": "execute_result"
    }
   ],
   "source": [
    "%%time\n",
    "trainer.train()"
   ]
  },
  {
   "cell_type": "markdown",
   "metadata": {
    "id": "_ZkooHz1-_2h"
   },
   "source": [
    "#### 🎉 Save final model (+ tokenizer + config) to disk"
   ]
  },
  {
   "cell_type": "code",
   "execution_count": 48,
   "metadata": {
    "id": "QDNgPls7_l13"
   },
   "outputs": [
    {
     "name": "stderr",
     "output_type": "stream",
     "text": [
      "Saving model checkpoint to D:/jupyter_notebook/huggingface/models/humanized_bert\n",
      "Configuration saved in D:/jupyter_notebook/huggingface/models/humanized_bert\\config.json\n",
      "Model weights saved in D:/jupyter_notebook/huggingface/models/humanized_bert\\pytorch_model.bin\n"
     ]
    }
   ],
   "source": [
    "trainer.save_model(\"D:/jupyter_notebook/huggingface/models/humanized_bert\")"
   ]
  },
  {
   "cell_type": "markdown",
   "metadata": {
    "id": "d0caceCy_p1-"
   },
   "source": [
    "## 4. Check that the LM actually trained"
   ]
  },
  {
   "cell_type": "markdown",
   "metadata": {
    "id": "iIQJ8ND_AEhl"
   },
   "source": [
    "Aside from looking at the training and eval losses going down, the easiest way to check whether our language model is learning anything interesting is via the `FillMaskPipeline`.\n",
    "\n",
    "Pipelines are simple wrappers around tokenizers and models, and the 'fill-mask' one will let you input a sequence containing a masked token (here, `<mask>`) and return a list of the most probable filled sequences, with their probabilities.\n",
    "\n"
   ]
  },
  {
   "cell_type": "code",
   "execution_count": 49,
   "metadata": {
    "id": "ltXgXyCbAJLY"
   },
   "outputs": [
    {
     "name": "stderr",
     "output_type": "stream",
     "text": [
      "loading configuration file D:/jupyter_notebook/huggingface/models/humanized_bert\\config.json\n",
      "Model config RobertaConfig {\n",
      "  \"_name_or_path\": \"D:/jupyter_notebook/huggingface/models/humanized_bert\",\n",
      "  \"architectures\": [\n",
      "    \"RobertaForMaskedLM\"\n",
      "  ],\n",
      "  \"attention_probs_dropout_prob\": 0.1,\n",
      "  \"bos_token_id\": 0,\n",
      "  \"classifier_dropout\": null,\n",
      "  \"eos_token_id\": 2,\n",
      "  \"hidden_act\": \"gelu\",\n",
      "  \"hidden_dropout_prob\": 0.1,\n",
      "  \"hidden_size\": 768,\n",
      "  \"initializer_range\": 0.02,\n",
      "  \"intermediate_size\": 3072,\n",
      "  \"layer_norm_eps\": 1e-12,\n",
      "  \"max_position_embeddings\": 514,\n",
      "  \"model_type\": \"roberta\",\n",
      "  \"num_attention_heads\": 12,\n",
      "  \"num_hidden_layers\": 6,\n",
      "  \"pad_token_id\": 1,\n",
      "  \"position_embedding_type\": \"absolute\",\n",
      "  \"torch_dtype\": \"float32\",\n",
      "  \"transformers_version\": \"4.16.0.dev0\",\n",
      "  \"type_vocab_size\": 1,\n",
      "  \"use_cache\": true,\n",
      "  \"vocab_size\": 52000\n",
      "}\n",
      "\n",
      "loading configuration file D:/jupyter_notebook/huggingface/models/humanized_bert\\config.json\n",
      "Model config RobertaConfig {\n",
      "  \"_name_or_path\": \"D:/jupyter_notebook/huggingface/models/humanized_bert\",\n",
      "  \"architectures\": [\n",
      "    \"RobertaForMaskedLM\"\n",
      "  ],\n",
      "  \"attention_probs_dropout_prob\": 0.1,\n",
      "  \"bos_token_id\": 0,\n",
      "  \"classifier_dropout\": null,\n",
      "  \"eos_token_id\": 2,\n",
      "  \"hidden_act\": \"gelu\",\n",
      "  \"hidden_dropout_prob\": 0.1,\n",
      "  \"hidden_size\": 768,\n",
      "  \"initializer_range\": 0.02,\n",
      "  \"intermediate_size\": 3072,\n",
      "  \"layer_norm_eps\": 1e-12,\n",
      "  \"max_position_embeddings\": 514,\n",
      "  \"model_type\": \"roberta\",\n",
      "  \"num_attention_heads\": 12,\n",
      "  \"num_hidden_layers\": 6,\n",
      "  \"pad_token_id\": 1,\n",
      "  \"position_embedding_type\": \"absolute\",\n",
      "  \"torch_dtype\": \"float32\",\n",
      "  \"transformers_version\": \"4.16.0.dev0\",\n",
      "  \"type_vocab_size\": 1,\n",
      "  \"use_cache\": true,\n",
      "  \"vocab_size\": 52000\n",
      "}\n",
      "\n",
      "loading weights file D:/jupyter_notebook/huggingface/models/humanized_bert\\pytorch_model.bin\n",
      "All model checkpoint weights were used when initializing RobertaForMaskedLM.\n",
      "\n",
      "All the weights of RobertaForMaskedLM were initialized from the model checkpoint at D:/jupyter_notebook/huggingface/models/humanized_bert.\n",
      "If your task is similar to the task the model of the checkpoint was trained on, you can already use RobertaForMaskedLM for predictions without further training.\n",
      "loading configuration file ../huggingface/models/aav2bert\\config.json\n",
      "Model config RobertaConfig {\n",
      "  \"_name_or_path\": \"../huggingface/models/aav2bert\",\n",
      "  \"architectures\": [\n",
      "    \"RobertaForMaskedLM\"\n",
      "  ],\n",
      "  \"attention_probs_dropout_prob\": 0.1,\n",
      "  \"bos_token_id\": 0,\n",
      "  \"classifier_dropout\": null,\n",
      "  \"eos_token_id\": 2,\n",
      "  \"hidden_act\": \"gelu\",\n",
      "  \"hidden_dropout_prob\": 0.1,\n",
      "  \"hidden_size\": 768,\n",
      "  \"initializer_range\": 0.02,\n",
      "  \"intermediate_size\": 3072,\n",
      "  \"layer_norm_eps\": 1e-12,\n",
      "  \"max_position_embeddings\": 514,\n",
      "  \"model_type\": \"roberta\",\n",
      "  \"num_attention_heads\": 12,\n",
      "  \"num_hidden_layers\": 6,\n",
      "  \"pad_token_id\": 1,\n",
      "  \"position_embedding_type\": \"absolute\",\n",
      "  \"torch_dtype\": \"float32\",\n",
      "  \"transformers_version\": \"4.16.0.dev0\",\n",
      "  \"type_vocab_size\": 1,\n",
      "  \"use_cache\": true,\n",
      "  \"vocab_size\": 52000\n",
      "}\n",
      "\n",
      "Didn't find file ../huggingface/models/aav2bert\\tokenizer.json. We won't load it.\n",
      "Didn't find file ../huggingface/models/aav2bert\\added_tokens.json. We won't load it.\n",
      "Didn't find file ../huggingface/models/aav2bert\\special_tokens_map.json. We won't load it.\n",
      "Didn't find file ../huggingface/models/aav2bert\\tokenizer_config.json. We won't load it.\n",
      "loading file ../huggingface/models/aav2bert\\vocab.json\n",
      "loading file ../huggingface/models/aav2bert\\merges.txt\n",
      "loading file None\n",
      "loading file None\n",
      "loading file None\n",
      "loading file None\n",
      "loading configuration file ../huggingface/models/aav2bert\\config.json\n",
      "Model config RobertaConfig {\n",
      "  \"_name_or_path\": \"../huggingface/models/aav2bert\",\n",
      "  \"architectures\": [\n",
      "    \"RobertaForMaskedLM\"\n",
      "  ],\n",
      "  \"attention_probs_dropout_prob\": 0.1,\n",
      "  \"bos_token_id\": 0,\n",
      "  \"classifier_dropout\": null,\n",
      "  \"eos_token_id\": 2,\n",
      "  \"hidden_act\": \"gelu\",\n",
      "  \"hidden_dropout_prob\": 0.1,\n",
      "  \"hidden_size\": 768,\n",
      "  \"initializer_range\": 0.02,\n",
      "  \"intermediate_size\": 3072,\n",
      "  \"layer_norm_eps\": 1e-12,\n",
      "  \"max_position_embeddings\": 514,\n",
      "  \"model_type\": \"roberta\",\n",
      "  \"num_attention_heads\": 12,\n",
      "  \"num_hidden_layers\": 6,\n",
      "  \"pad_token_id\": 1,\n",
      "  \"position_embedding_type\": \"absolute\",\n",
      "  \"torch_dtype\": \"float32\",\n",
      "  \"transformers_version\": \"4.16.0.dev0\",\n",
      "  \"type_vocab_size\": 1,\n",
      "  \"use_cache\": true,\n",
      "  \"vocab_size\": 52000\n",
      "}\n",
      "\n",
      "loading configuration file ../huggingface/models/aav2bert\\config.json\n",
      "Model config RobertaConfig {\n",
      "  \"_name_or_path\": \"../huggingface/models/aav2bert\",\n",
      "  \"architectures\": [\n",
      "    \"RobertaForMaskedLM\"\n",
      "  ],\n",
      "  \"attention_probs_dropout_prob\": 0.1,\n",
      "  \"bos_token_id\": 0,\n",
      "  \"classifier_dropout\": null,\n",
      "  \"eos_token_id\": 2,\n",
      "  \"hidden_act\": \"gelu\",\n",
      "  \"hidden_dropout_prob\": 0.1,\n",
      "  \"hidden_size\": 768,\n",
      "  \"initializer_range\": 0.02,\n",
      "  \"intermediate_size\": 3072,\n",
      "  \"layer_norm_eps\": 1e-12,\n",
      "  \"max_position_embeddings\": 514,\n",
      "  \"model_type\": \"roberta\",\n",
      "  \"num_attention_heads\": 12,\n",
      "  \"num_hidden_layers\": 6,\n",
      "  \"pad_token_id\": 1,\n",
      "  \"position_embedding_type\": \"absolute\",\n",
      "  \"torch_dtype\": \"float32\",\n",
      "  \"transformers_version\": \"4.16.0.dev0\",\n",
      "  \"type_vocab_size\": 1,\n",
      "  \"use_cache\": true,\n",
      "  \"vocab_size\": 52000\n",
      "}\n",
      "\n"
     ]
    }
   ],
   "source": [
    "from transformers import pipeline\n",
    "\n",
    "fill_mask = pipeline(\n",
    "    \"fill-mask\",\n",
    "    model=\"D:/jupyter_notebook/huggingface/models/humanized_bert\",\n",
    "    tokenizer=\"../huggingface/models/aav2bert\"\n",
    ")"
   ]
  },
  {
   "cell_type": "code",
   "execution_count": 50,
   "metadata": {
    "colab": {
     "base_uri": "https://localhost:8080/",
     "height": 283
    },
    "id": "UIvgZ3S6AO0z",
    "outputId": "5f3d2f00-abdc-44a9-9c1b-75e3ec328576",
    "scrolled": true
   },
   "outputs": [
    {
     "data": {
      "text/plain": [
       "[[{'score': 0.0011512604542076588,\n",
       "   'token': 265,\n",
       "   'token_str': ' L',\n",
       "   'sequence': '<s> I R E W W L<mask> P G A P K P K </s>'},\n",
       "  {'score': 0.0009419691050425172,\n",
       "   'token': 268,\n",
       "   'token_str': ' D',\n",
       "   'sequence': '<s> I R E W W D<mask> P G A P K P K </s>'},\n",
       "  {'score': 0.0005524407024495304,\n",
       "   'token': 262,\n",
       "   'token_str': ' S',\n",
       "   'sequence': '<s> I R E W W S<mask> P G A P K P K </s>'},\n",
       "  {'score': 0.0004307684430386871,\n",
       "   'token': 267,\n",
       "   'token_str': ' A',\n",
       "   'sequence': '<s> I R E W W A<mask> P G A P K P K </s>'},\n",
       "  {'score': 0.0002452126645948738,\n",
       "   'token': 261,\n",
       "   'token_str': ' G',\n",
       "   'sequence': '<s> I R E W W G<mask> P G A P K P K </s>'}],\n",
       " [{'score': 0.0012744325213134289,\n",
       "   'token': 265,\n",
       "   'token_str': ' L',\n",
       "   'sequence': '<s> I R E W W<mask> L P G A P K P K </s>'},\n",
       "  {'score': 0.0008551882929168642,\n",
       "   'token': 268,\n",
       "   'token_str': ' D',\n",
       "   'sequence': '<s> I R E W W<mask> D P G A P K P K </s>'},\n",
       "  {'score': 0.0005561081343330443,\n",
       "   'token': 262,\n",
       "   'token_str': ' S',\n",
       "   'sequence': '<s> I R E W W<mask> S P G A P K P K </s>'},\n",
       "  {'score': 0.00048135939869098365,\n",
       "   'token': 267,\n",
       "   'token_str': ' A',\n",
       "   'sequence': '<s> I R E W W<mask> A P G A P K P K </s>'},\n",
       "  {'score': 0.0003318885574117303,\n",
       "   'token': 275,\n",
       "   'token_str': ' K',\n",
       "   'sequence': '<s> I R E W W<mask> K P G A P K P K </s>'}]]"
      ]
     },
     "execution_count": 50,
     "metadata": {},
     "output_type": "execute_result"
    }
   ],
   "source": [
    "# The sun <mask>.\n",
    "# =>\n",
    "\n",
    "fill_mask(\" I R E W W <mask> <mask> P G A P K P K \")"
   ]
  },
  {
   "cell_type": "markdown",
   "metadata": {
    "id": "i0qCyyhNAWZi"
   },
   "source": [
    "Ok, simple syntax/grammar works. Let’s try a slightly more interesting prompt:\n",
    "\n"
   ]
  },
  {
   "cell_type": "code",
   "execution_count": 17,
   "metadata": {
    "colab": {
     "base_uri": "https://localhost:8080/",
     "height": 283
    },
    "id": "YZ9HSQxAAbme",
    "outputId": "aabfeedc-b1d0-4837-b01d-cd42726a5a3d"
   },
   "outputs": [
    {
     "data": {
      "text/plain": [
       "[{'score': 0.04868708550930023,\n",
       "  'token': 1283,\n",
       "  'token_str': ' tago',\n",
       "  'sequence': 'Jen la komenco de bela tago.'},\n",
       " {'score': 0.01708998531103134,\n",
       "  'token': 833,\n",
       "  'token_str': ' tempo',\n",
       "  'sequence': 'Jen la komenco de bela tempo.'},\n",
       " {'score': 0.01368900015950203,\n",
       "  'token': 1398,\n",
       "  'token_str': ' loko',\n",
       "  'sequence': 'Jen la komenco de bela loko.'},\n",
       " {'score': 0.012574958615005016,\n",
       "  'token': 966,\n",
       "  'token_str': ' vivo',\n",
       "  'sequence': 'Jen la komenco de bela vivo.'},\n",
       " {'score': 0.011642387136816978,\n",
       "  'token': 1589,\n",
       "  'token_str': ' urbo',\n",
       "  'sequence': 'Jen la komenco de bela urbo.'}]"
      ]
     },
     "execution_count": 17,
     "metadata": {},
     "output_type": "execute_result"
    }
   ],
   "source": [
    "fill_mask(\"Jen la komenco de bela <mask>.\")\n",
    "\n",
    "# This is the beginning of a beautiful <mask>.\n",
    "# =>"
   ]
  },
  {
   "cell_type": "markdown",
   "metadata": {
    "id": "6RsGaD1qAfLP"
   },
   "source": [
    "## 5. Share your model 🎉"
   ]
  },
  {
   "cell_type": "markdown",
   "metadata": {},
   "source": [
    "### Fine tuning our pretaining model of aav2bert"
   ]
  },
  {
   "cell_type": "markdown",
   "metadata": {},
   "source": [
    "refer https://github.com/huggingface/notebooks/blob/master/examples/text_classification.ipynb"
   ]
  },
  {
   "cell_type": "markdown",
   "metadata": {},
   "source": [
    "1 data preparation"
   ]
  },
  {
   "cell_type": "code",
   "execution_count": 2,
   "metadata": {},
   "outputs": [
    {
     "name": "stdout",
     "output_type": "stream",
     "text": [
      "4.16.0.dev0\n"
     ]
    }
   ],
   "source": [
    "import transformers\n",
    "import numpy as np\n",
    "import pandas as pd\n",
    "import random\n",
    "import torch\n",
    "import matplotlib.pylab as plt \n",
    "from torch.nn.utils import clip_grad_norm_\n",
    "from torch.utils.data import TensorDataset, DataLoader, RandomSampler, SequentialSampler\n",
    "from transformers import BertForSequenceClassification, AdamW\n",
    "from transformers import get_linear_schedule_with_warmup\n",
    "\n",
    "\n",
    "print(transformers.__version__)"
   ]
  },
  {
   "cell_type": "code",
   "execution_count": 2,
   "metadata": {},
   "outputs": [
    {
     "data": {
      "text/plain": [
       "<torch._C.Generator at 0x1ddb36989d0>"
      ]
     },
     "execution_count": 2,
     "metadata": {},
     "output_type": "execute_result"
    }
   ],
   "source": [
    "SEED = 123\n",
    "learning_rate = 2e-5\n",
    "weight_decay = 1e-2\n",
    "epsilon = 1e-8\n",
    "\n",
    "random.seed(SEED)\n",
    "np.random.seed(SEED)\n",
    "torch.manual_seed(SEED)"
   ]
  },
  {
   "cell_type": "code",
   "execution_count": 3,
   "metadata": {},
   "outputs": [],
   "source": [
    "aav2= pd.read_csv(\"../huggingface/data/human_virus_train.csv\")\n",
    "\n",
    "aav2[\"sequence\"]=aav2[\"sequence\"].str.upper()\n",
    "\n",
    "aav_data=[]\n",
    "for line in aav2[\"sequence\"]:\n",
    "    line=str(line)\n",
    "    line2=line.replace(\"\",\" \")\n",
    "    aav_data.append(line2)\n",
    "    \n",
    "    \n",
    "\n",
    "aav_data= pd.DataFrame(aav_data, columns=['sequence'])\n",
    "\n",
    "aav2_data2 = pd.concat([aav2, aav_data],axis=1)"
   ]
  },
  {
   "cell_type": "code",
   "execution_count": 5,
   "metadata": {},
   "outputs": [],
   "source": [
    "aav2_data2.to_csv(\"../huggingface/data/humanized_data_flow.csv\") "
   ]
  },
  {
   "cell_type": "markdown",
   "metadata": {},
   "source": [
    "2 read the data"
   ]
  },
  {
   "cell_type": "code",
   "execution_count": 3,
   "metadata": {
    "scrolled": true
   },
   "outputs": [],
   "source": [
    "aav2= pd.read_csv(\"../huggingface/data/aav2_data_flew_30825_unique_seq2.csv\")"
   ]
  },
  {
   "cell_type": "code",
   "execution_count": 4,
   "metadata": {},
   "outputs": [],
   "source": [
    "aav2=aav2.sample(n=20000,random_state=1)"
   ]
  },
  {
   "cell_type": "code",
   "execution_count": 4,
   "metadata": {},
   "outputs": [],
   "source": [
    "####（optional）\n",
    "df = aav2\n",
    "\n",
    "df = pd.DataFrame(df,columns=['mutant_21aa_text', 'antibody_escape_label'])\n",
    "\n",
    "df.columns=['sentence', 'label']\n",
    "\n",
    "df_total=df.sample(len(df))\n",
    "\n",
    "df=df_total[:25000]"
   ]
  },
  {
   "cell_type": "code",
   "execution_count": null,
   "metadata": {},
   "outputs": [],
   "source": [
    "##sample reduction （optional）\n",
    "\n",
    "df_sample_0 = df.loc[df.label == 0].sample(n=len(df.loc[df.label == 1]))\n",
    "df_1 = df.loc[df.label == 1]\n",
    "df = df_1.append(df_sample_0)"
   ]
  },
  {
   "cell_type": "code",
   "execution_count": 5,
   "metadata": {},
   "outputs": [],
   "source": [
    "aav2=df"
   ]
  },
  {
   "cell_type": "code",
   "execution_count": 6,
   "metadata": {},
   "outputs": [],
   "source": [
    "sentences = aav2[\"sentence\"]\n",
    "\n",
    "# set label\n",
    "targets = aav2[\"label\"]"
   ]
  },
  {
   "cell_type": "code",
   "execution_count": 7,
   "metadata": {},
   "outputs": [],
   "source": [
    "targets=targets.values.reshape(-1, 1)"
   ]
  },
  {
   "cell_type": "code",
   "execution_count": 8,
   "metadata": {},
   "outputs": [],
   "source": [
    "total_targets = torch.tensor(targets)"
   ]
  },
  {
   "cell_type": "code",
   "execution_count": 9,
   "metadata": {
    "scrolled": false
   },
   "outputs": [],
   "source": [
    "from transformers import AutoTokenizer\n",
    "tokenizer = AutoTokenizer.from_pretrained(\"../huggingface/models/aav2bert\")"
   ]
  },
  {
   "cell_type": "code",
   "execution_count": 10,
   "metadata": {},
   "outputs": [
    {
     "name": "stdout",
     "output_type": "stream",
     "text": [
      "torch.Size([25000, 52])\n"
     ]
    },
    {
     "name": "stderr",
     "output_type": "stream",
     "text": [
      "C:\\Users\\racoon\\AppData\\Local\\Temp/ipykernel_18308/1587867109.py:12: UserWarning: Creating a tensor from a list of numpy.ndarrays is extremely slow. Please consider converting the list to a single numpy.ndarray with numpy.array() before converting to a tensor. (Triggered internally at  ..\\torch\\csrc\\utils\\tensor_new.cpp:201.)\n",
      "  input_tokens = torch.tensor(input_ids)\n"
     ]
    }
   ],
   "source": [
    "# embedding the protein\n",
    "def convert_text_to_token(tokenizer, sentence, limit_size = 50):\n",
    "    tokens = tokenizer.encode(sentence[:limit_size])       # cutoff\n",
    "    if len(tokens) < limit_size + 2:                       #\n",
    "        alist=list(tokens)\n",
    "        alist.extend([0] * (limit_size + 2 - len(tokens)))\n",
    "        tokens=np.array(alist)\n",
    "    return tokens\n",
    "\n",
    "input_ids = [convert_text_to_token(tokenizer, sen) for sen in sentences]\n",
    "\n",
    "input_tokens = torch.tensor(input_ids)\n",
    "print(input_tokens.shape)              # torch.Size([10000, 128])\n"
   ]
  },
  {
   "cell_type": "code",
   "execution_count": 11,
   "metadata": {},
   "outputs": [
    {
     "data": {
      "text/plain": [
       "25000"
      ]
     },
     "execution_count": 11,
     "metadata": {},
     "output_type": "execute_result"
    }
   ],
   "source": [
    "len(input_ids)"
   ]
  },
  {
   "cell_type": "code",
   "execution_count": 12,
   "metadata": {},
   "outputs": [
    {
     "name": "stdout",
     "output_type": "stream",
     "text": [
      "torch.Size([25000, 52])\n"
     ]
    }
   ],
   "source": [
    "# build mask\n",
    "def attention_masks(input_ids):\n",
    "    atten_masks = []\n",
    "    for seq in input_ids:                       # [36269, 22]\n",
    "        seq_mask = [float(i > 0) for i in seq]  # PAD: 0; or: 1\n",
    "        atten_masks.append(seq_mask)\n",
    "    return atten_masks\n",
    "\n",
    "atten_masks = attention_masks(input_ids)\n",
    "attention_tokens = torch.tensor(atten_masks)\n",
    "print(attention_tokens.shape)                   # torch.Size([36269, 22])\n"
   ]
  },
  {
   "cell_type": "code",
   "execution_count": 13,
   "metadata": {},
   "outputs": [
    {
     "name": "stdout",
     "output_type": "stream",
     "text": [
      "torch.Size([20000, 52]) torch.Size([5000, 52])\n",
      "torch.Size([20000, 52])\n",
      "tensor([  0, 280, 275, 265, 275, 263, 261, 263, 263, 263, 263, 274, 267, 274,\n",
      "        271, 279, 275, 268, 268, 262, 271, 261, 225,   2,   0,   0,   0,   0,\n",
      "          0,   0,   0,   0,   0,   0,   0,   0,   0,   0,   0,   0,   0,   0,\n",
      "          0,   0,   0,   0,   0,   0,   0,   0,   0,   0], dtype=torch.int32)\n",
      "tensor([0., 1., 1., 1., 1., 1., 1., 1., 1., 1., 1., 1., 1., 1., 1., 1., 1., 1.,\n",
      "        1., 1., 1., 1., 1., 1., 0., 0., 0., 0., 0., 0., 0., 0., 0., 0., 0., 0.,\n",
      "        0., 0., 0., 0., 0., 0., 0., 0., 0., 0., 0., 0., 0., 0., 0., 0.])\n"
     ]
    }
   ],
   "source": [
    "from sklearn.model_selection import train_test_split\n",
    "\n",
    "train_inputs, test_inputs, train_labels, test_labels = train_test_split(input_tokens, total_targets, \n",
    "                                                                        random_state=1, test_size=0.2)\n",
    "train_masks, test_masks, _, _ = train_test_split(attention_tokens, input_tokens, \n",
    "                                                 random_state=1, test_size=0.2)\n",
    "print(train_inputs.shape, test_inputs.shape)      #  torch.Size([2000, 128])\n",
    "print(train_masks.shape)                          # torch.Size([8000, 128])\n",
    "\n",
    "print(train_inputs[0])\n",
    "print(train_masks[0])"
   ]
  },
  {
   "cell_type": "code",
   "execution_count": 14,
   "metadata": {},
   "outputs": [],
   "source": [
    "BATCH_SIZE=64"
   ]
  },
  {
   "cell_type": "code",
   "execution_count": 15,
   "metadata": {},
   "outputs": [],
   "source": [
    "train_data = TensorDataset(train_inputs, train_masks, train_labels)\n",
    "train_sampler = RandomSampler(train_data)\n",
    "train_dataloader = DataLoader(train_data, sampler=train_sampler, batch_size=BATCH_SIZE)\n",
    "\n",
    "test_data = TensorDataset(test_inputs, test_masks, test_labels)\n",
    "test_sampler = RandomSampler(test_data)\n",
    "test_dataloader = DataLoader(test_data, sampler=test_sampler, batch_size=BATCH_SIZE)"
   ]
  },
  {
   "cell_type": "code",
   "execution_count": 16,
   "metadata": {},
   "outputs": [
    {
     "name": "stdout",
     "output_type": "stream",
     "text": [
      "torch.Size([64, 52]) torch.Size([64, 52]) torch.Size([64, 1])\n",
      "len(train_dataloader) =  313\n"
     ]
    }
   ],
   "source": [
    "for i, (train, mask, label) in enumerate(train_dataloader): \n",
    "    # torch.Size([16, 128]) torch.Size([16, 128]) torch.Size([16, 1])\n",
    "    print(train.shape, mask.shape, label.shape)\n",
    "    break\n",
    "\n",
    "print('len(train_dataloader) = ', len(train_dataloader))    # 500"
   ]
  },
  {
   "cell_type": "code",
   "execution_count": null,
   "metadata": {},
   "outputs": [],
   "source": []
  },
  {
   "cell_type": "code",
   "execution_count": 17,
   "metadata": {},
   "outputs": [
    {
     "name": "stderr",
     "output_type": "stream",
     "text": [
      "Some weights of the model checkpoint at ../huggingface/models/humanized_bert were not used when initializing RobertaForSequenceClassification: ['lm_head.bias', 'lm_head.layer_norm.bias', 'lm_head.layer_norm.weight', 'lm_head.dense.weight', 'lm_head.dense.bias']\n",
      "- This IS expected if you are initializing RobertaForSequenceClassification from the checkpoint of a model trained on another task or with another architecture (e.g. initializing a BertForSequenceClassification model from a BertForPreTraining model).\n",
      "- This IS NOT expected if you are initializing RobertaForSequenceClassification from the checkpoint of a model that you expect to be exactly identical (initializing a BertForSequenceClassification model from a BertForSequenceClassification model).\n",
      "Some weights of RobertaForSequenceClassification were not initialized from the model checkpoint at ../huggingface/models/humanized_bert and are newly initialized: ['classifier.dense.bias', 'classifier.dense.weight', 'classifier.out_proj.weight', 'classifier.out_proj.bias']\n",
      "You should probably TRAIN this model on a down-stream task to be able to use it for predictions and inference.\n"
     ]
    }
   ],
   "source": [
    "from transformers import AutoModelForSequenceClassification, TrainingArguments, Trainer\n",
    "#model = num_labels 2 groups\n",
    "num_labels = 2\n",
    "model = AutoModelForSequenceClassification.from_pretrained(\"../huggingface/models/humanized_bert\", num_labels=num_labels)"
   ]
  },
  {
   "cell_type": "code",
   "execution_count": 18,
   "metadata": {},
   "outputs": [
    {
     "data": {
      "text/plain": [
       "RobertaForSequenceClassification(\n",
       "  (roberta): RobertaModel(\n",
       "    (embeddings): RobertaEmbeddings(\n",
       "      (word_embeddings): Embedding(52000, 768, padding_idx=1)\n",
       "      (position_embeddings): Embedding(514, 768, padding_idx=1)\n",
       "      (token_type_embeddings): Embedding(1, 768)\n",
       "      (LayerNorm): LayerNorm((768,), eps=1e-12, elementwise_affine=True)\n",
       "      (dropout): Dropout(p=0.1, inplace=False)\n",
       "    )\n",
       "    (encoder): RobertaEncoder(\n",
       "      (layer): ModuleList(\n",
       "        (0): RobertaLayer(\n",
       "          (attention): RobertaAttention(\n",
       "            (self): RobertaSelfAttention(\n",
       "              (query): Linear(in_features=768, out_features=768, bias=True)\n",
       "              (key): Linear(in_features=768, out_features=768, bias=True)\n",
       "              (value): Linear(in_features=768, out_features=768, bias=True)\n",
       "              (dropout): Dropout(p=0.1, inplace=False)\n",
       "            )\n",
       "            (output): RobertaSelfOutput(\n",
       "              (dense): Linear(in_features=768, out_features=768, bias=True)\n",
       "              (LayerNorm): LayerNorm((768,), eps=1e-12, elementwise_affine=True)\n",
       "              (dropout): Dropout(p=0.1, inplace=False)\n",
       "            )\n",
       "          )\n",
       "          (intermediate): RobertaIntermediate(\n",
       "            (dense): Linear(in_features=768, out_features=3072, bias=True)\n",
       "          )\n",
       "          (output): RobertaOutput(\n",
       "            (dense): Linear(in_features=3072, out_features=768, bias=True)\n",
       "            (LayerNorm): LayerNorm((768,), eps=1e-12, elementwise_affine=True)\n",
       "            (dropout): Dropout(p=0.1, inplace=False)\n",
       "          )\n",
       "        )\n",
       "        (1): RobertaLayer(\n",
       "          (attention): RobertaAttention(\n",
       "            (self): RobertaSelfAttention(\n",
       "              (query): Linear(in_features=768, out_features=768, bias=True)\n",
       "              (key): Linear(in_features=768, out_features=768, bias=True)\n",
       "              (value): Linear(in_features=768, out_features=768, bias=True)\n",
       "              (dropout): Dropout(p=0.1, inplace=False)\n",
       "            )\n",
       "            (output): RobertaSelfOutput(\n",
       "              (dense): Linear(in_features=768, out_features=768, bias=True)\n",
       "              (LayerNorm): LayerNorm((768,), eps=1e-12, elementwise_affine=True)\n",
       "              (dropout): Dropout(p=0.1, inplace=False)\n",
       "            )\n",
       "          )\n",
       "          (intermediate): RobertaIntermediate(\n",
       "            (dense): Linear(in_features=768, out_features=3072, bias=True)\n",
       "          )\n",
       "          (output): RobertaOutput(\n",
       "            (dense): Linear(in_features=3072, out_features=768, bias=True)\n",
       "            (LayerNorm): LayerNorm((768,), eps=1e-12, elementwise_affine=True)\n",
       "            (dropout): Dropout(p=0.1, inplace=False)\n",
       "          )\n",
       "        )\n",
       "        (2): RobertaLayer(\n",
       "          (attention): RobertaAttention(\n",
       "            (self): RobertaSelfAttention(\n",
       "              (query): Linear(in_features=768, out_features=768, bias=True)\n",
       "              (key): Linear(in_features=768, out_features=768, bias=True)\n",
       "              (value): Linear(in_features=768, out_features=768, bias=True)\n",
       "              (dropout): Dropout(p=0.1, inplace=False)\n",
       "            )\n",
       "            (output): RobertaSelfOutput(\n",
       "              (dense): Linear(in_features=768, out_features=768, bias=True)\n",
       "              (LayerNorm): LayerNorm((768,), eps=1e-12, elementwise_affine=True)\n",
       "              (dropout): Dropout(p=0.1, inplace=False)\n",
       "            )\n",
       "          )\n",
       "          (intermediate): RobertaIntermediate(\n",
       "            (dense): Linear(in_features=768, out_features=3072, bias=True)\n",
       "          )\n",
       "          (output): RobertaOutput(\n",
       "            (dense): Linear(in_features=3072, out_features=768, bias=True)\n",
       "            (LayerNorm): LayerNorm((768,), eps=1e-12, elementwise_affine=True)\n",
       "            (dropout): Dropout(p=0.1, inplace=False)\n",
       "          )\n",
       "        )\n",
       "        (3): RobertaLayer(\n",
       "          (attention): RobertaAttention(\n",
       "            (self): RobertaSelfAttention(\n",
       "              (query): Linear(in_features=768, out_features=768, bias=True)\n",
       "              (key): Linear(in_features=768, out_features=768, bias=True)\n",
       "              (value): Linear(in_features=768, out_features=768, bias=True)\n",
       "              (dropout): Dropout(p=0.1, inplace=False)\n",
       "            )\n",
       "            (output): RobertaSelfOutput(\n",
       "              (dense): Linear(in_features=768, out_features=768, bias=True)\n",
       "              (LayerNorm): LayerNorm((768,), eps=1e-12, elementwise_affine=True)\n",
       "              (dropout): Dropout(p=0.1, inplace=False)\n",
       "            )\n",
       "          )\n",
       "          (intermediate): RobertaIntermediate(\n",
       "            (dense): Linear(in_features=768, out_features=3072, bias=True)\n",
       "          )\n",
       "          (output): RobertaOutput(\n",
       "            (dense): Linear(in_features=3072, out_features=768, bias=True)\n",
       "            (LayerNorm): LayerNorm((768,), eps=1e-12, elementwise_affine=True)\n",
       "            (dropout): Dropout(p=0.1, inplace=False)\n",
       "          )\n",
       "        )\n",
       "        (4): RobertaLayer(\n",
       "          (attention): RobertaAttention(\n",
       "            (self): RobertaSelfAttention(\n",
       "              (query): Linear(in_features=768, out_features=768, bias=True)\n",
       "              (key): Linear(in_features=768, out_features=768, bias=True)\n",
       "              (value): Linear(in_features=768, out_features=768, bias=True)\n",
       "              (dropout): Dropout(p=0.1, inplace=False)\n",
       "            )\n",
       "            (output): RobertaSelfOutput(\n",
       "              (dense): Linear(in_features=768, out_features=768, bias=True)\n",
       "              (LayerNorm): LayerNorm((768,), eps=1e-12, elementwise_affine=True)\n",
       "              (dropout): Dropout(p=0.1, inplace=False)\n",
       "            )\n",
       "          )\n",
       "          (intermediate): RobertaIntermediate(\n",
       "            (dense): Linear(in_features=768, out_features=3072, bias=True)\n",
       "          )\n",
       "          (output): RobertaOutput(\n",
       "            (dense): Linear(in_features=3072, out_features=768, bias=True)\n",
       "            (LayerNorm): LayerNorm((768,), eps=1e-12, elementwise_affine=True)\n",
       "            (dropout): Dropout(p=0.1, inplace=False)\n",
       "          )\n",
       "        )\n",
       "        (5): RobertaLayer(\n",
       "          (attention): RobertaAttention(\n",
       "            (self): RobertaSelfAttention(\n",
       "              (query): Linear(in_features=768, out_features=768, bias=True)\n",
       "              (key): Linear(in_features=768, out_features=768, bias=True)\n",
       "              (value): Linear(in_features=768, out_features=768, bias=True)\n",
       "              (dropout): Dropout(p=0.1, inplace=False)\n",
       "            )\n",
       "            (output): RobertaSelfOutput(\n",
       "              (dense): Linear(in_features=768, out_features=768, bias=True)\n",
       "              (LayerNorm): LayerNorm((768,), eps=1e-12, elementwise_affine=True)\n",
       "              (dropout): Dropout(p=0.1, inplace=False)\n",
       "            )\n",
       "          )\n",
       "          (intermediate): RobertaIntermediate(\n",
       "            (dense): Linear(in_features=768, out_features=3072, bias=True)\n",
       "          )\n",
       "          (output): RobertaOutput(\n",
       "            (dense): Linear(in_features=3072, out_features=768, bias=True)\n",
       "            (LayerNorm): LayerNorm((768,), eps=1e-12, elementwise_affine=True)\n",
       "            (dropout): Dropout(p=0.1, inplace=False)\n",
       "          )\n",
       "        )\n",
       "      )\n",
       "    )\n",
       "  )\n",
       "  (classifier): RobertaClassificationHead(\n",
       "    (dense): Linear(in_features=768, out_features=768, bias=True)\n",
       "    (dropout): Dropout(p=0.1, inplace=False)\n",
       "    (out_proj): Linear(in_features=768, out_features=2, bias=True)\n",
       "  )\n",
       ")"
      ]
     },
     "execution_count": 18,
     "metadata": {},
     "output_type": "execute_result"
    }
   ],
   "source": [
    "device = torch.device('cuda')\n",
    "model.to(device)"
   ]
  },
  {
   "cell_type": "code",
   "execution_count": 19,
   "metadata": {
    "scrolled": false
   },
   "outputs": [
    {
     "name": "stderr",
     "output_type": "stream",
     "text": [
      "C:\\Users\\racoon\\anaconda3\\envs\\pytorch_gpu\\lib\\site-packages\\transformers\\optimization.py:306: FutureWarning: This implementation of AdamW is deprecated and will be removed in a future version. Use thePyTorch implementation torch.optim.AdamW instead, or set `no_deprecation_warning=True` to disable this warning\n",
      "  warnings.warn(\n"
     ]
    }
   ],
   "source": [
    "optimizer = AdamW(model.parameters(), lr = learning_rate, eps = epsilon)"
   ]
  },
  {
   "cell_type": "code",
   "execution_count": 20,
   "metadata": {},
   "outputs": [],
   "source": [
    "epochs = 30\n",
    "# training steps : [number of batches] x [number of epochs].\n",
    "total_steps = len(train_dataloader) * epochs\n",
    "\n",
    "# 设计 learning rate scheduler.\n",
    "scheduler = get_linear_schedule_with_warmup(optimizer, num_warmup_steps = 0, \n",
    "                                            num_training_steps = total_steps)"
   ]
  },
  {
   "cell_type": "code",
   "execution_count": 21,
   "metadata": {},
   "outputs": [],
   "source": [
    "def binary_acc(preds, labels): # preds.shape = [16, 2] labels.shape = [16, 1]\n",
    "    correct = torch.eq(torch.max(preds, dim=1)[1], labels.flatten()).float()\n",
    "    acc = correct.sum().item() / len(correct)\n",
    "    return acc"
   ]
  },
  {
   "cell_type": "code",
   "execution_count": 22,
   "metadata": {},
   "outputs": [],
   "source": [
    "import time\n",
    "import datetime\n",
    "\n",
    "def format_time(elapsed):\n",
    "    elapsed_rounded = int(round(elapsed))\n",
    "    return str(datetime.timedelta(seconds = elapsed_rounded)) # return time"
   ]
  },
  {
   "cell_type": "code",
   "execution_count": 23,
   "metadata": {},
   "outputs": [],
   "source": [
    "def train(model, optimizer):\n",
    "    t0 = time.time()\n",
    "    avg_loss, avg_acc = [],[]\n",
    "\n",
    "    model.train()\n",
    "    for step, batch in enumerate(train_dataloader):\n",
    "\n",
    "        # time print for 40batch .\n",
    "        if step % 40 == 0 and not step == 0:\n",
    "            elapsed = format_time(time.time() - t0)\n",
    "            print('  Batch {:>5,}  of  {:>5,}.    Elapsed: {:}.'.format(step, len(train_dataloader), elapsed))\n",
    "\n",
    "        b_input_ids, b_input_mask, b_labels = batch[0].long().to(device), batch[1].long().to(device), batch[2].long().to(device)\n",
    "        output = model(b_input_ids, token_type_ids=None, attention_mask=b_input_mask, labels=b_labels)\n",
    "        loss, logits = output[0], output[1]      # loss:  logits: predict\n",
    "\n",
    "        avg_loss.append(loss.item())\n",
    "\n",
    "        acc = binary_acc(logits, b_labels)       # (predict, label)\n",
    "        avg_acc.append(acc)\n",
    "        \n",
    "        optimizer.zero_grad()\n",
    "        loss.backward()\n",
    "        clip_grad_norm_(model.parameters(), 1.0) # \n",
    "        optimizer.step()                         # \n",
    "        scheduler.step()                         # \n",
    "        \n",
    "    avg_acc = np.array(avg_acc).mean()\n",
    "    avg_loss = np.array(avg_loss).mean()\n",
    "    return avg_loss, avg_acc\n"
   ]
  },
  {
   "cell_type": "code",
   "execution_count": 24,
   "metadata": {},
   "outputs": [],
   "source": [
    "def evaluate(model):\n",
    "    avg_acc = []\n",
    "    model.eval()         # evaluation\n",
    "\n",
    "    with torch.no_grad():\n",
    "        for batch in test_dataloader:\n",
    "            b_input_ids, b_input_mask, b_labels = batch[0].long().to(device), batch[1].long().to(device), batch[2].long().to(device)\n",
    "\n",
    "            output = model(b_input_ids, token_type_ids=None, attention_mask=b_input_mask)\n",
    "\n",
    "            acc = binary_acc(output[0], b_labels)\n",
    "            avg_acc.append(acc)\n",
    "\n",
    "    avg_acc = np.array(avg_acc).mean()\n",
    "    return avg_acc\n"
   ]
  },
  {
   "cell_type": "code",
   "execution_count": 25,
   "metadata": {},
   "outputs": [],
   "source": [
    "torch.cuda.empty_cache()   "
   ]
  },
  {
   "cell_type": "code",
   "execution_count": 26,
   "metadata": {},
   "outputs": [],
   "source": [
    "from sklearn.metrics import accuracy_score, confusion_matrix, classification_report"
   ]
  },
  {
   "cell_type": "code",
   "execution_count": 27,
   "metadata": {
    "scrolled": true
   },
   "outputs": [
    {
     "name": "stdout",
     "output_type": "stream",
     "text": [
      "  Batch    40  of    313.    Elapsed: 0:00:09.\n",
      "  Batch    80  of    313.    Elapsed: 0:00:15.\n",
      "  Batch   120  of    313.    Elapsed: 0:00:21.\n",
      "  Batch   160  of    313.    Elapsed: 0:00:27.\n",
      "  Batch   200  of    313.    Elapsed: 0:00:33.\n",
      "  Batch   240  of    313.    Elapsed: 0:00:39.\n",
      "  Batch   280  of    313.    Elapsed: 0:00:45.\n",
      "epoch=0,训练准确率=0.71685303514377，损失=0.5700250121351248\n",
      "epoch=0,测试准确率=0.7496044303797469\n",
      "  Batch    40  of    313.    Elapsed: 0:00:06.\n",
      "  Batch    80  of    313.    Elapsed: 0:00:12.\n",
      "  Batch   120  of    313.    Elapsed: 0:00:18.\n",
      "  Batch   160  of    313.    Elapsed: 0:00:24.\n",
      "  Batch   200  of    313.    Elapsed: 0:00:30.\n",
      "  Batch   240  of    313.    Elapsed: 0:00:36.\n",
      "  Batch   280  of    313.    Elapsed: 0:00:42.\n",
      "epoch=1,训练准确率=0.7538937699680511，损失=0.5101382243937959\n",
      "epoch=1,测试准确率=0.7551424050632911\n",
      "  Batch    40  of    313.    Elapsed: 0:00:06.\n",
      "  Batch    80  of    313.    Elapsed: 0:00:12.\n",
      "  Batch   120  of    313.    Elapsed: 0:00:18.\n",
      "  Batch   160  of    313.    Elapsed: 0:00:24.\n",
      "  Batch   200  of    313.    Elapsed: 0:00:30.\n",
      "  Batch   240  of    313.    Elapsed: 0:00:36.\n",
      "  Batch   280  of    313.    Elapsed: 0:00:42.\n",
      "epoch=2,训练准确率=0.7668230830670927，损失=0.4896186407381734\n",
      "epoch=2,测试准确率=0.7652294303797469\n",
      "  Batch    40  of    313.    Elapsed: 0:00:06.\n",
      "  Batch    80  of    313.    Elapsed: 0:00:12.\n",
      "  Batch   120  of    313.    Elapsed: 0:00:18.\n",
      "  Batch   160  of    313.    Elapsed: 0:00:24.\n",
      "  Batch   200  of    313.    Elapsed: 0:00:30.\n",
      "  Batch   240  of    313.    Elapsed: 0:00:36.\n",
      "  Batch   280  of    313.    Elapsed: 0:00:42.\n",
      "epoch=3,训练准确率=0.7783546325878594，损失=0.4726094972973053\n",
      "epoch=3,测试准确率=0.7676028481012658\n",
      "  Batch    40  of    313.    Elapsed: 0:00:06.\n",
      "  Batch    80  of    313.    Elapsed: 0:00:12.\n",
      "  Batch   120  of    313.    Elapsed: 0:00:18.\n",
      "  Batch   160  of    313.    Elapsed: 0:00:24.\n",
      "  Batch   200  of    313.    Elapsed: 0:00:30.\n",
      "  Batch   240  of    313.    Elapsed: 0:00:36.\n",
      "  Batch   280  of    313.    Elapsed: 0:00:42.\n",
      "epoch=4,训练准确率=0.7883386581469649，损失=0.45727621147426933\n",
      "epoch=4,测试准确率=0.7846123417721519\n",
      "  Batch    40  of    313.    Elapsed: 0:00:06.\n",
      "  Batch    80  of    313.    Elapsed: 0:00:12.\n",
      "  Batch   120  of    313.    Elapsed: 0:00:18.\n",
      "  Batch   160  of    313.    Elapsed: 0:00:24.\n",
      "  Batch   200  of    313.    Elapsed: 0:00:30.\n",
      "  Batch   240  of    313.    Elapsed: 0:00:36.\n",
      "  Batch   280  of    313.    Elapsed: 0:00:42.\n",
      "epoch=5,训练准确率=0.794029552715655，损失=0.4460349487610899\n",
      "epoch=5,测试准确率=0.7899525316455697\n",
      "  Batch    40  of    313.    Elapsed: 0:00:06.\n",
      "  Batch    80  of    313.    Elapsed: 0:00:12.\n",
      "  Batch   120  of    313.    Elapsed: 0:00:18.\n",
      "  Batch   160  of    313.    Elapsed: 0:00:24.\n",
      "  Batch   200  of    313.    Elapsed: 0:00:30.\n",
      "  Batch   240  of    313.    Elapsed: 0:00:36.\n",
      "  Batch   280  of    313.    Elapsed: 0:00:42.\n",
      "epoch=6,训练准确率=0.7997703674121406，损失=0.4390627450455492\n",
      "epoch=6,测试准确率=0.785996835443038\n",
      "  Batch    40  of    313.    Elapsed: 0:00:06.\n",
      "  Batch    80  of    313.    Elapsed: 0:00:12.\n",
      "  Batch   120  of    313.    Elapsed: 0:00:18.\n",
      "  Batch   160  of    313.    Elapsed: 0:00:24.\n",
      "  Batch   200  of    313.    Elapsed: 0:00:30.\n",
      "  Batch   240  of    313.    Elapsed: 0:00:36.\n",
      "  Batch   280  of    313.    Elapsed: 0:00:42.\n",
      "epoch=7,训练准确率=0.8062599840255591，损失=0.4286400209219692\n",
      "epoch=7,测试准确率=0.7950949367088608\n",
      "  Batch    40  of    313.    Elapsed: 0:00:06.\n",
      "  Batch    80  of    313.    Elapsed: 0:00:12.\n",
      "  Batch   120  of    313.    Elapsed: 0:00:18.\n",
      "  Batch   160  of    313.    Elapsed: 0:00:24.\n",
      "  Batch   200  of    313.    Elapsed: 0:00:30.\n",
      "  Batch   240  of    313.    Elapsed: 0:00:36.\n",
      "  Batch   280  of    313.    Elapsed: 0:00:42.\n",
      "epoch=8,训练准确率=0.8075079872204473，损失=0.4234604800756747\n",
      "epoch=8,测试准确率=0.7990506329113924\n",
      "  Batch    40  of    313.    Elapsed: 0:00:06.\n",
      "  Batch    80  of    313.    Elapsed: 0:00:12.\n",
      "  Batch   120  of    313.    Elapsed: 0:00:18.\n",
      "  Batch   160  of    313.    Elapsed: 0:00:24.\n",
      "  Batch   200  of    313.    Elapsed: 0:00:30.\n",
      "  Batch   240  of    313.    Elapsed: 0:00:36.\n",
      "  Batch   280  of    313.    Elapsed: 0:00:42.\n",
      "epoch=9,训练准确率=0.8121006389776357，损失=0.4168889936738121\n",
      "epoch=9,测试准确率=0.794501582278481\n",
      "  Batch    40  of    313.    Elapsed: 0:00:06.\n",
      "  Batch    80  of    313.    Elapsed: 0:00:12.\n",
      "  Batch   120  of    313.    Elapsed: 0:00:18.\n",
      "  Batch   160  of    313.    Elapsed: 0:00:24.\n",
      "  Batch   200  of    313.    Elapsed: 0:00:30.\n",
      "  Batch   240  of    313.    Elapsed: 0:00:36.\n",
      "  Batch   280  of    313.    Elapsed: 0:00:41.\n",
      "epoch=10,训练准确率=0.8125998402555911，损失=0.4116726097778771\n",
      "epoch=10,测试准确率=0.7990506329113924\n",
      "  Batch    40  of    313.    Elapsed: 0:00:06.\n",
      "  Batch    80  of    313.    Elapsed: 0:00:12.\n",
      "  Batch   120  of    313.    Elapsed: 0:00:18.\n",
      "  Batch   160  of    313.    Elapsed: 0:00:24.\n",
      "  Batch   200  of    313.    Elapsed: 0:00:30.\n",
      "  Batch   240  of    313.    Elapsed: 0:00:36.\n",
      "  Batch   280  of    313.    Elapsed: 0:00:42.\n",
      "epoch=11,训练准确率=0.8174920127795527，损失=0.40866257059878813\n",
      "epoch=11,测试准确率=0.8012262658227848\n",
      "  Batch    40  of    313.    Elapsed: 0:00:06.\n",
      "  Batch    80  of    313.    Elapsed: 0:00:12.\n",
      "  Batch   120  of    313.    Elapsed: 0:00:18.\n",
      "  Batch   160  of    313.    Elapsed: 0:00:24.\n",
      "  Batch   200  of    313.    Elapsed: 0:00:30.\n",
      "  Batch   240  of    313.    Elapsed: 0:00:36.\n",
      "  Batch   280  of    313.    Elapsed: 0:00:42.\n",
      "epoch=12,训练准确率=0.8168430511182109，损失=0.40509255877889383\n",
      "epoch=12,测试准确率=0.783623417721519\n",
      "  Batch    40  of    313.    Elapsed: 0:00:06.\n",
      "  Batch    80  of    313.    Elapsed: 0:00:12.\n",
      "  Batch   120  of    313.    Elapsed: 0:00:18.\n",
      "  Batch   160  of    313.    Elapsed: 0:00:24.\n",
      "  Batch   200  of    313.    Elapsed: 0:00:30.\n",
      "  Batch   240  of    313.    Elapsed: 0:00:36.\n",
      "  Batch   280  of    313.    Elapsed: 0:00:42.\n",
      "epoch=13,训练准确率=0.8197883386581469，损失=0.3980410312311337\n",
      "epoch=13,测试准确率=0.7941060126582279\n",
      "  Batch    40  of    313.    Elapsed: 0:00:06.\n",
      "  Batch    80  of    313.    Elapsed: 0:00:12.\n",
      "  Batch   120  of    313.    Elapsed: 0:00:18.\n",
      "  Batch   160  of    313.    Elapsed: 0:00:24.\n",
      "  Batch   200  of    313.    Elapsed: 0:00:30.\n",
      "  Batch   240  of    313.    Elapsed: 0:00:36.\n",
      "  Batch   280  of    313.    Elapsed: 0:00:42.\n",
      "epoch=14,训练准确率=0.8208366613418531，损失=0.3941653589375865\n",
      "epoch=14,测试准确率=0.7964794303797469\n",
      "  Batch    40  of    313.    Elapsed: 0:00:06.\n",
      "  Batch    80  of    313.    Elapsed: 0:00:12.\n",
      "  Batch   120  of    313.    Elapsed: 0:00:18.\n",
      "  Batch   160  of    313.    Elapsed: 0:00:24.\n",
      "  Batch   200  of    313.    Elapsed: 0:00:30.\n",
      "  Batch   240  of    313.    Elapsed: 0:00:36.\n",
      "  Batch   280  of    313.    Elapsed: 0:00:42.\n",
      "epoch=15,训练准确率=0.8241313897763578，损失=0.3889033896759295\n",
      "epoch=15,测试准确率=0.7958860759493671\n",
      "  Batch    40  of    313.    Elapsed: 0:00:06.\n",
      "  Batch    80  of    313.    Elapsed: 0:00:12.\n",
      "  Batch   120  of    313.    Elapsed: 0:00:18.\n",
      "  Batch   160  of    313.    Elapsed: 0:00:24.\n",
      "  Batch   200  of    313.    Elapsed: 0:00:30.\n",
      "  Batch   240  of    313.    Elapsed: 0:00:36.\n",
      "  Batch   280  of    313.    Elapsed: 0:00:42.\n",
      "epoch=16,训练准确率=0.8257288338658147，损失=0.38684013928658667\n",
      "epoch=16,测试准确率=0.7988528481012658\n",
      "  Batch    40  of    313.    Elapsed: 0:00:06.\n",
      "  Batch    80  of    313.    Elapsed: 0:00:12.\n",
      "  Batch   120  of    313.    Elapsed: 0:00:18.\n",
      "  Batch   160  of    313.    Elapsed: 0:00:24.\n",
      "  Batch   200  of    313.    Elapsed: 0:00:30.\n",
      "  Batch   240  of    313.    Elapsed: 0:00:36.\n",
      "  Batch   280  of    313.    Elapsed: 0:00:42.\n",
      "epoch=17,训练准确率=0.83002196485623，损失=0.38057617486094514\n",
      "epoch=17,测试准确率=0.7998417721518988\n",
      "  Batch    40  of    313.    Elapsed: 0:00:06.\n",
      "  Batch    80  of    313.    Elapsed: 0:00:12.\n",
      "  Batch   120  of    313.    Elapsed: 0:00:18.\n",
      "  Batch   160  of    313.    Elapsed: 0:00:24.\n",
      "  Batch   200  of    313.    Elapsed: 0:00:30.\n",
      "  Batch   240  of    313.    Elapsed: 0:00:36.\n",
      "  Batch   280  of    313.    Elapsed: 0:00:42.\n",
      "epoch=18,训练准确率=0.8287739616613419，损失=0.3773179184704924\n",
      "epoch=18,测试准确率=0.8008306962025317\n",
      "  Batch    40  of    313.    Elapsed: 0:00:06.\n",
      "  Batch    80  of    313.    Elapsed: 0:00:12.\n",
      "  Batch   120  of    313.    Elapsed: 0:00:18.\n",
      "  Batch   160  of    313.    Elapsed: 0:00:24.\n",
      "  Batch   200  of    313.    Elapsed: 0:00:30.\n",
      "  Batch   240  of    313.    Elapsed: 0:00:36.\n"
     ]
    },
    {
     "name": "stdout",
     "output_type": "stream",
     "text": [
      "  Batch   280  of    313.    Elapsed: 0:00:42.\n",
      "epoch=19,训练准确率=0.8303214856230032，损失=0.37568994171131914\n",
      "epoch=19,测试准确率=0.7962816455696202\n",
      "  Batch    40  of    313.    Elapsed: 0:00:06.\n",
      "  Batch    80  of    313.    Elapsed: 0:00:12.\n",
      "  Batch   120  of    313.    Elapsed: 0:00:18.\n",
      "  Batch   160  of    313.    Elapsed: 0:00:24.\n",
      "  Batch   200  of    313.    Elapsed: 0:00:30.\n",
      "  Batch   240  of    313.    Elapsed: 0:00:36.\n",
      "  Batch   280  of    313.    Elapsed: 0:00:42.\n",
      "epoch=20,训练准确率=0.8323182907348243，损失=0.37232655639084766\n",
      "epoch=20,测试准确率=0.7966772151898734\n",
      "  Batch    40  of    313.    Elapsed: 0:00:06.\n",
      "  Batch    80  of    313.    Elapsed: 0:00:12.\n",
      "  Batch   120  of    313.    Elapsed: 0:00:18.\n",
      "  Batch   160  of    313.    Elapsed: 0:00:24.\n",
      "  Batch   200  of    313.    Elapsed: 0:00:30.\n",
      "  Batch   240  of    313.    Elapsed: 0:00:36.\n",
      "  Batch   280  of    313.    Elapsed: 0:00:42.\n",
      "epoch=21,训练准确率=0.8318690095846646，损失=0.37058597941177723\n",
      "epoch=21,测试准确率=0.7996439873417721\n",
      "  Batch    40  of    313.    Elapsed: 0:00:06.\n",
      "  Batch    80  of    313.    Elapsed: 0:00:12.\n",
      "  Batch   120  of    313.    Elapsed: 0:00:18.\n",
      "  Batch   160  of    313.    Elapsed: 0:00:24.\n",
      "  Batch   200  of    313.    Elapsed: 0:00:30.\n",
      "  Batch   240  of    313.    Elapsed: 0:00:36.\n",
      "  Batch   280  of    313.    Elapsed: 0:00:42.\n",
      "epoch=22,训练准确率=0.8358126996805112，损失=0.364709801805286\n",
      "epoch=22,测试准确率=0.7937104430379747\n",
      "  Batch    40  of    313.    Elapsed: 0:00:06.\n",
      "  Batch    80  of    313.    Elapsed: 0:00:12.\n",
      "  Batch   120  of    313.    Elapsed: 0:00:18.\n",
      "  Batch   160  of    313.    Elapsed: 0:00:24.\n",
      "  Batch   200  of    313.    Elapsed: 0:00:30.\n",
      "  Batch   240  of    313.    Elapsed: 0:00:36.\n",
      "  Batch   280  of    313.    Elapsed: 0:00:42.\n",
      "epoch=23,训练准确率=0.8339157348242812，损失=0.36331416956913737\n",
      "epoch=23,测试准确率=0.8004351265822784\n",
      "  Batch    40  of    313.    Elapsed: 0:00:06.\n",
      "  Batch    80  of    313.    Elapsed: 0:00:12.\n",
      "  Batch   120  of    313.    Elapsed: 0:00:18.\n",
      "  Batch   160  of    313.    Elapsed: 0:00:24.\n",
      "  Batch   200  of    313.    Elapsed: 0:00:30.\n",
      "  Batch   240  of    313.    Elapsed: 0:00:36.\n",
      "  Batch   280  of    313.    Elapsed: 0:00:42.\n",
      "epoch=24,训练准确率=0.838158945686901，损失=0.357806208748787\n",
      "epoch=24,测试准确率=0.7950949367088608\n",
      "  Batch    40  of    313.    Elapsed: 0:00:06.\n",
      "  Batch    80  of    313.    Elapsed: 0:00:12.\n",
      "  Batch   120  of    313.    Elapsed: 0:00:18.\n",
      "  Batch   160  of    313.    Elapsed: 0:00:24.\n",
      "  Batch   200  of    313.    Elapsed: 0:00:30.\n",
      "  Batch   240  of    313.    Elapsed: 0:00:36.\n",
      "  Batch   280  of    313.    Elapsed: 0:00:42.\n",
      "epoch=25,训练准确率=0.8399061501597445，损失=0.35834524363945847\n",
      "epoch=25,测试准确率=0.789754746835443\n",
      "  Batch    40  of    313.    Elapsed: 0:00:06.\n",
      "  Batch    80  of    313.    Elapsed: 0:00:12.\n",
      "  Batch   120  of    313.    Elapsed: 0:00:18.\n",
      "  Batch   160  of    313.    Elapsed: 0:00:24.\n",
      "  Batch   200  of    313.    Elapsed: 0:00:30.\n",
      "  Batch   240  of    313.    Elapsed: 0:00:36.\n",
      "  Batch   280  of    313.    Elapsed: 0:00:42.\n",
      "epoch=26,训练准确率=0.8384085463258786，损失=0.35472676157951355\n",
      "epoch=26,测试准确率=0.7937104430379747\n",
      "  Batch    40  of    313.    Elapsed: 0:00:06.\n",
      "  Batch    80  of    313.    Elapsed: 0:00:12.\n",
      "  Batch   120  of    313.    Elapsed: 0:00:18.\n",
      "  Batch   160  of    313.    Elapsed: 0:00:24.\n",
      "  Batch   200  of    313.    Elapsed: 0:00:30.\n",
      "  Batch   240  of    313.    Elapsed: 0:00:36.\n",
      "  Batch   280  of    313.    Elapsed: 0:00:42.\n",
      "epoch=27,训练准确率=0.8426018370607029，损失=0.3511617801155145\n",
      "epoch=27,测试准确率=0.7960838607594937\n",
      "  Batch    40  of    313.    Elapsed: 0:00:06.\n",
      "  Batch    80  of    313.    Elapsed: 0:00:12.\n",
      "  Batch   120  of    313.    Elapsed: 0:00:18.\n",
      "  Batch   160  of    313.    Elapsed: 0:00:24.\n",
      "  Batch   200  of    313.    Elapsed: 0:00:30.\n",
      "  Batch   240  of    313.    Elapsed: 0:00:36.\n",
      "  Batch   280  of    313.    Elapsed: 0:00:42.\n",
      "epoch=28,训练准确率=0.8393071086261981，损失=0.3518971347104246\n",
      "epoch=28,测试准确率=0.7925237341772152\n",
      "  Batch    40  of    313.    Elapsed: 0:00:06.\n",
      "  Batch    80  of    313.    Elapsed: 0:00:12.\n",
      "  Batch   120  of    313.    Elapsed: 0:00:18.\n",
      "  Batch   160  of    313.    Elapsed: 0:00:24.\n",
      "  Batch   200  of    313.    Elapsed: 0:00:30.\n",
      "  Batch   240  of    313.    Elapsed: 0:00:36.\n",
      "  Batch   280  of    313.    Elapsed: 0:00:42.\n",
      "epoch=29,训练准确率=0.8433007188498403，损失=0.34841931832674594\n",
      "epoch=29,测试准确率=0.7952927215189873\n"
     ]
    }
   ],
   "source": [
    "train_loss_histoty = []\n",
    "train_acc_history = []\n",
    "test_acc_history = []\n",
    "epoch_history = []\n",
    "for epoch in range(epochs):  \n",
    "    train_loss, train_acc = train(model, optimizer)\n",
    "    train_loss_histoty.append(train_loss)\n",
    "    train_acc_history.append(train_acc)\n",
    "    epoch_history.append(epoch)\n",
    "    print('epoch={},训练准确率={}，损失={}'.format(epoch, train_acc, train_loss))\n",
    "    test_acc = evaluate(model)\n",
    "    test_acc_history.append(test_acc)\n",
    "    print(\"epoch={},测试准确率={}\".format(epoch, test_acc))"
   ]
  },
  {
   "cell_type": "code",
   "execution_count": null,
   "metadata": {},
   "outputs": [],
   "source": [
    "\n",
    "plt.plot(history.history['acc'])\n",
    "plt.plot(history.history['val_acc'])\n",
    "plt.title('model accuracy')\n",
    "plt.xlabel('epoch')\n",
    "plt.ylabel('accuracy')\n",
    "plt.legend(['train', 'validation'], loc='upper left')\n",
    "plt.show()\n",
    " \n",
    "#loss\n",
    "plt.plot(history.history['loss'])\n",
    "plt.plot(history.history['val_loss'])\n",
    "plt.title('model loss')\n",
    "plt.xlabel('epoch')\n",
    "plt.ylabel('loss')\n",
    "plt.legend(['train', 'validation'], loc='upper left')\n",
    "plt.show()"
   ]
  },
  {
   "cell_type": "code",
   "execution_count": 28,
   "metadata": {},
   "outputs": [],
   "source": [
    "hist = pd.DataFrame()"
   ]
  },
  {
   "cell_type": "code",
   "execution_count": 29,
   "metadata": {},
   "outputs": [],
   "source": [
    "hist['epoch'] = epoch_history\n",
    "hist['train_acc'] = train_acc_history\n",
    "hist['train_loss'] = train_loss_histoty\n",
    "hist['test_acc'] = test_acc_history\n"
   ]
  },
  {
   "cell_type": "code",
   "execution_count": 30,
   "metadata": {},
   "outputs": [],
   "source": [
    "import matplotlib.pyplot as plt"
   ]
  },
  {
   "cell_type": "code",
   "execution_count": 31,
   "metadata": {},
   "outputs": [
    {
     "data": {
      "image/png": "[encoded data removed]",
      "text/plain": [
       "<Figure size 432x288 with 1 Axes>"
      ]
     },
     "metadata": {
      "needs_background": "light"
     },
     "output_type": "display_data"
    }
   ],
   "source": [
    "\n",
    "    plt.xlabel('Epoch')\n",
    "    plt.ylabel('Train')\n",
    "    plt.plot(hist['epoch'], hist['train_acc'],\n",
    "           label='Train Accuracy')\n",
    "    plt.plot(hist['epoch'], hist['train_loss'],\n",
    "           label = 'Train Loss')\n",
    "    plt.plot(hist['epoch'], hist['test_acc'],\n",
    "           label = 'Test Accuracy')\n",
    "    plt.ylim([0,1])\n",
    "    plt.legend()\n",
    "    plt.savefig('../huggingface/visual_result/AAV2_single_mutant_nab_Bert_aav_30epoch.png',dpi=300)#save result\n",
    "    plt.show()\n"
   ]
  },
  {
   "cell_type": "code",
   "execution_count": 37,
   "metadata": {},
   "outputs": [
    {
     "data": {
      "text/plain": [
       "<Figure size 432x288 with 0 Axes>"
      ]
     },
     "metadata": {},
     "output_type": "display_data"
    }
   ],
   "source": [
    "#3 external evaluation"
   ]
  },
  {
   "cell_type": "code",
   "execution_count": 76,
   "metadata": {},
   "outputs": [
    {
     "name": "stderr",
     "output_type": "stream",
     "text": [
      "PyTorch: setting up devices\n",
      "The default value for the training argument `--report_to` will change in v5 (from all installed integrations to none). In v5, you will need to use `--report_to all` to get the same behavior as now. You should start updating your code and make this info disappear :-).\n"
     ]
    }
   ],
   "source": [
    "args = TrainingArguments(\n",
    "    \"aav2bert-finetuning\",\n",
    "    evaluation_strategy = \"epoch\",\n",
    "    save_strategy = \"epoch\",\n",
    "    learning_rate=2e-5,\n",
    "    per_device_train_batch_size=32,\n",
    "    per_device_eval_batch_size=32,\n",
    "    num_train_epochs=5,\n",
    "    weight_decay=0.01,\n",
    "    load_best_model_at_end=True,\n",
    "    push_to_hub=True,\n",
    ")"
   ]
  },
  {
   "cell_type": "code",
   "execution_count": 78,
   "metadata": {},
   "outputs": [],
   "source": [
    "def compute_metrics(eval_pred):\n",
    "    predictions, labels = eval_pred\n",
    "    predictions = predictions[:, 0]\n",
    "    return metric.compute(predictions=predictions, references=labels)"
   ]
  },
  {
   "cell_type": "code",
   "execution_count": null,
   "metadata": {
    "collapsed": true
   },
   "outputs": [],
   "source": [
    "trainer = Trainer(\n",
    "    model,\n",
    "    args,\n",
    "    train_dataset=encoded_dataset[\"train\"],\n",
    "    eval_dataset=encoded_dataset[validation_key],\n",
    "    tokenizer=tokenizer，\n",
    "    compute_metrics=compute_metrics\n",
    ")"
   ]
  }
 ],
 "metadata": {
  "accelerator": "GPU",
  "colab": {
   "collapsed_sections": [],
   "machine_shape": "hm",
   "name": "01_how-to-train.ipynb",
   "provenance": [],
   "toc_visible": true
  },
  "kernelspec": {
   "display_name": "Python_pytorch",
   "language": "python",
   "name": "pytorch"
  },
  "language_info": {
   "codemirror_mode": {
    "name": "ipython",
    "version": 3
   },
   "file_extension": ".py",
   "mimetype": "text/x-python",
   "name": "python",
   "nbconvert_exporter": "python",
   "pygments_lexer": "ipython3",
   "version": "3.7.13"
  },
  "widgets": {
   "application/vnd.jupyter.widget-state+json": {
    "016d7c8318f742c1943464b08232a510": {
     "model_module": "@jupyter-widgets/base",
     "model_module_version": "1.2.0",
     "model_name": "LayoutModel",
     "state": {
      "_model_module": "@jupyter-widgets/base",
      "_model_module_version": "1.2.0",
      "_model_name": "LayoutModel",
      "_view_count": null,
      "_view_module": "@jupyter-widgets/base",
      "_view_module_version": "1.2.0",
      "_view_name": "LayoutView",
      "align_content": null,
      "align_items": null,
      "align_self": null,
      "border": null,
      "bottom": null,
      "display": null,
      "flex": null,
      "flex_flow": null,
      "grid_area": null,
      "grid_auto_columns": null,
      "grid_auto_flow": null,
      "grid_auto_rows": null,
      "grid_column": null,
      "grid_gap": null,
      "grid_row": null,
      "grid_template_areas": null,
      "grid_template_columns": null,
      "grid_template_rows": null,
      "height": null,
      "justify_content": null,
      "justify_items": null,
      "left": null,
      "margin": null,
      "max_height": null,
      "max_width": null,
      "min_height": null,
      "min_width": null,
      "object_fit": null,
      "object_position": null,
      "order": null,
      "overflow": null,
      "overflow_x": null,
      "overflow_y": null,
      "padding": null,
      "right": null,
      "top": null,
      "visibility": null,
      "width": null
     }
    },
    "04e7e6d291da49d5816dc98a2904e95c": {
     "model_module": "@jupyter-widgets/controls",
     "model_module_version": "1.5.0",
     "model_name": "HTMLModel",
     "state": {
      "_dom_classes": [],
      "_model_module": "@jupyter-widgets/controls",
      "_model_module_version": "1.5.0",
      "_model_name": "HTMLModel",
      "_view_count": null,
      "_view_module": "@jupyter-widgets/controls",
      "_view_module_version": "1.5.0",
      "_view_name": "HTMLView",
      "description": "",
      "description_tooltip": null,
      "layout": "IPY_MODEL_39c23c6a972b419eb2eeeebafeaedc22",
      "placeholder": "​",
      "style": "IPY_MODEL_8388e9da9da4492c98c19235ca5fc1b5",
      "value": " 15228/15228 [2:46:46&lt;00:00,  1.52it/s]"
     }
    },
    "0989d41a4da24e9ebff377e02127642c": {
     "model_module": "@jupyter-widgets/controls",
     "model_module_version": "1.5.0",
     "model_name": "HBoxModel",
     "state": {
      "_dom_classes": [],
      "_model_module": "@jupyter-widgets/controls",
      "_model_module_version": "1.5.0",
      "_model_name": "HBoxModel",
      "_view_count": null,
      "_view_module": "@jupyter-widgets/controls",
      "_view_module_version": "1.5.0",
      "_view_name": "HBoxView",
      "box_style": "",
      "children": [
       "IPY_MODEL_d295dd80550447d88da0f04ce36a22ff",
       "IPY_MODEL_04e7e6d291da49d5816dc98a2904e95c"
      ],
      "layout": "IPY_MODEL_42c6061ef7e44f179db5a6e3551c0f17"
     }
    },
    "39c23c6a972b419eb2eeeebafeaedc22": {
     "model_module": "@jupyter-widgets/base",
     "model_module_version": "1.2.0",
     "model_name": "LayoutModel",
     "state": {
      "_model_module": "@jupyter-widgets/base",
      "_model_module_version": "1.2.0",
      "_model_name": "LayoutModel",
      "_view_count": null,
      "_view_module": "@jupyter-widgets/base",
      "_view_module_version": "1.2.0",
      "_view_name": "LayoutView",
      "align_content": null,
      "align_items": null,
      "align_self": null,
      "border": null,
      "bottom": null,
      "display": null,
      "flex": null,
      "flex_flow": null,
      "grid_area": null,
      "grid_auto_columns": null,
      "grid_auto_flow": null,
      "grid_auto_rows": null,
      "grid_column": null,
      "grid_gap": null,
      "grid_row": null,
      "grid_template_areas": null,
      "grid_template_columns": null,
      "grid_template_rows": null,
      "height": null,
      "justify_content": null,
      "justify_items": null,
      "left": null,
      "margin": null,
      "max_height": null,
      "max_width": null,
      "min_height": null,
      "min_width": null,
      "object_fit": null,
      "object_position": null,
      "order": null,
      "overflow": null,
      "overflow_x": null,
      "overflow_y": null,
      "padding": null,
      "right": null,
      "top": null,
      "visibility": null,
      "width": null
     }
    },
    "40bf955ba0284e84b198da6be8654219": {
     "model_module": "@jupyter-widgets/controls",
     "model_module_version": "1.5.0",
     "model_name": "ProgressStyleModel",
     "state": {
      "_model_module": "@jupyter-widgets/controls",
      "_model_module_version": "1.5.0",
      "_model_name": "ProgressStyleModel",
      "_view_count": null,
      "_view_module": "@jupyter-widgets/base",
      "_view_module_version": "1.2.0",
      "_view_name": "StyleView",
      "bar_color": null,
      "description_width": "initial"
     }
    },
    "42c6061ef7e44f179db5a6e3551c0f17": {
     "model_module": "@jupyter-widgets/base",
     "model_module_version": "1.2.0",
     "model_name": "LayoutModel",
     "state": {
      "_model_module": "@jupyter-widgets/base",
      "_model_module_version": "1.2.0",
      "_model_name": "LayoutModel",
      "_view_count": null,
      "_view_module": "@jupyter-widgets/base",
      "_view_module_version": "1.2.0",
      "_view_name": "LayoutView",
      "align_content": null,
      "align_items": null,
      "align_self": null,
      "border": null,
      "bottom": null,
      "display": null,
      "flex": null,
      "flex_flow": null,
      "grid_area": null,
      "grid_auto_columns": null,
      "grid_auto_flow": null,
      "grid_auto_rows": null,
      "grid_column": null,
      "grid_gap": null,
      "grid_row": null,
      "grid_template_areas": null,
      "grid_template_columns": null,
      "grid_template_rows": null,
      "height": null,
      "justify_content": null,
      "justify_items": null,
      "left": null,
      "margin": null,
      "max_height": null,
      "max_width": null,
      "min_height": null,
      "min_width": null,
      "object_fit": null,
      "object_position": null,
      "order": null,
      "overflow": null,
      "overflow_x": null,
      "overflow_y": null,
      "padding": null,
      "right": null,
      "top": null,
      "visibility": null,
      "width": null
     }
    },
    "6feb10aeb43147e6aba028d065947ae8": {
     "model_module": "@jupyter-widgets/base",
     "model_module_version": "1.2.0",
     "model_name": "LayoutModel",
     "state": {
      "_model_module": "@jupyter-widgets/base",
      "_model_module_version": "1.2.0",
      "_model_name": "LayoutModel",
      "_view_count": null,
      "_view_module": "@jupyter-widgets/base",
      "_view_module_version": "1.2.0",
      "_view_name": "LayoutView",
      "align_content": null,
      "align_items": null,
      "align_self": null,
      "border": null,
      "bottom": null,
      "display": null,
      "flex": null,
      "flex_flow": null,
      "grid_area": null,
      "grid_auto_columns": null,
      "grid_auto_flow": null,
      "grid_auto_rows": null,
      "grid_column": null,
      "grid_gap": null,
      "grid_row": null,
      "grid_template_areas": null,
      "grid_template_columns": null,
      "grid_template_rows": null,
      "height": null,
      "justify_content": null,
      "justify_items": null,
      "left": null,
      "margin": null,
      "max_height": null,
      "max_width": null,
      "min_height": null,
      "min_width": null,
      "object_fit": null,
      "object_position": null,
      "order": null,
      "overflow": null,
      "overflow_x": null,
      "overflow_y": null,
      "padding": null,
      "right": null,
      "top": null,
      "visibility": null,
      "width": null
     }
    },
    "837c9ddc3d594e088891874560c646b8": {
     "model_module": "@jupyter-widgets/controls",
     "model_module_version": "1.5.0",
     "model_name": "FloatProgressModel",
     "state": {
      "_dom_classes": [],
      "_model_module": "@jupyter-widgets/controls",
      "_model_module_version": "1.5.0",
      "_model_name": "FloatProgressModel",
      "_view_count": null,
      "_view_module": "@jupyter-widgets/controls",
      "_view_module_version": "1.5.0",
      "_view_name": "ProgressView",
      "bar_style": "success",
      "description": "Epoch: 100%",
      "description_tooltip": null,
      "layout": "IPY_MODEL_fe20a8dae6e84628b5076d02183090f5",
      "max": 1,
      "min": 0,
      "orientation": "horizontal",
      "style": "IPY_MODEL_40bf955ba0284e84b198da6be8654219",
      "value": 1
     }
    },
    "8388e9da9da4492c98c19235ca5fc1b5": {
     "model_module": "@jupyter-widgets/controls",
     "model_module_version": "1.5.0",
     "model_name": "DescriptionStyleModel",
     "state": {
      "_model_module": "@jupyter-widgets/controls",
      "_model_module_version": "1.5.0",
      "_model_name": "DescriptionStyleModel",
      "_view_count": null,
      "_view_module": "@jupyter-widgets/base",
      "_view_module_version": "1.2.0",
      "_view_name": "StyleView",
      "description_width": ""
     }
    },
    "93b3f9eae3cb4e3e859cf456e3547c6d": {
     "model_module": "@jupyter-widgets/controls",
     "model_module_version": "1.5.0",
     "model_name": "DescriptionStyleModel",
     "state": {
      "_model_module": "@jupyter-widgets/controls",
      "_model_module_version": "1.5.0",
      "_model_name": "DescriptionStyleModel",
      "_view_count": null,
      "_view_module": "@jupyter-widgets/base",
      "_view_module_version": "1.2.0",
      "_view_name": "StyleView",
      "description_width": ""
     }
    },
    "a491e8caa0a048beb3b5259f14eb233f": {
     "model_module": "@jupyter-widgets/base",
     "model_module_version": "1.2.0",
     "model_name": "LayoutModel",
     "state": {
      "_model_module": "@jupyter-widgets/base",
      "_model_module_version": "1.2.0",
      "_model_name": "LayoutModel",
      "_view_count": null,
      "_view_module": "@jupyter-widgets/base",
      "_view_module_version": "1.2.0",
      "_view_name": "LayoutView",
      "align_content": null,
      "align_items": null,
      "align_self": null,
      "border": null,
      "bottom": null,
      "display": null,
      "flex": null,
      "flex_flow": null,
      "grid_area": null,
      "grid_auto_columns": null,
      "grid_auto_flow": null,
      "grid_auto_rows": null,
      "grid_column": null,
      "grid_gap": null,
      "grid_row": null,
      "grid_template_areas": null,
      "grid_template_columns": null,
      "grid_template_rows": null,
      "height": null,
      "justify_content": null,
      "justify_items": null,
      "left": null,
      "margin": null,
      "max_height": null,
      "max_width": null,
      "min_height": null,
      "min_width": null,
      "object_fit": null,
      "object_position": null,
      "order": null,
      "overflow": null,
      "overflow_x": null,
      "overflow_y": null,
      "padding": null,
      "right": null,
      "top": null,
      "visibility": null,
      "width": null
     }
    },
    "a58a66392b644b1384661e850c077a6c": {
     "model_module": "@jupyter-widgets/controls",
     "model_module_version": "1.5.0",
     "model_name": "HBoxModel",
     "state": {
      "_dom_classes": [],
      "_model_module": "@jupyter-widgets/controls",
      "_model_module_version": "1.5.0",
      "_model_name": "HBoxModel",
      "_view_count": null,
      "_view_module": "@jupyter-widgets/controls",
      "_view_module_version": "1.5.0",
      "_view_name": "HBoxView",
      "box_style": "",
      "children": [
       "IPY_MODEL_837c9ddc3d594e088891874560c646b8",
       "IPY_MODEL_dbf50873d62c4ba39321faefbed0cca5"
      ],
      "layout": "IPY_MODEL_a491e8caa0a048beb3b5259f14eb233f"
     }
    },
    "d295dd80550447d88da0f04ce36a22ff": {
     "model_module": "@jupyter-widgets/controls",
     "model_module_version": "1.5.0",
     "model_name": "FloatProgressModel",
     "state": {
      "_dom_classes": [],
      "_model_module": "@jupyter-widgets/controls",
      "_model_module_version": "1.5.0",
      "_model_name": "FloatProgressModel",
      "_view_count": null,
      "_view_module": "@jupyter-widgets/controls",
      "_view_module_version": "1.5.0",
      "_view_name": "ProgressView",
      "bar_style": "success",
      "description": "Iteration: 100%",
      "description_tooltip": null,
      "layout": "IPY_MODEL_016d7c8318f742c1943464b08232a510",
      "max": 15228,
      "min": 0,
      "orientation": "horizontal",
      "style": "IPY_MODEL_e7d8c3a4fecd40778e32966b29ea65a1",
      "value": 15228
     }
    },
    "dbf50873d62c4ba39321faefbed0cca5": {
     "model_module": "@jupyter-widgets/controls",
     "model_module_version": "1.5.0",
     "model_name": "HTMLModel",
     "state": {
      "_dom_classes": [],
      "_model_module": "@jupyter-widgets/controls",
      "_model_module_version": "1.5.0",
      "_model_name": "HTMLModel",
      "_view_count": null,
      "_view_module": "@jupyter-widgets/controls",
      "_view_module_version": "1.5.0",
      "_view_name": "HTMLView",
      "description": "",
      "description_tooltip": null,
      "layout": "IPY_MODEL_6feb10aeb43147e6aba028d065947ae8",
      "placeholder": "​",
      "style": "IPY_MODEL_93b3f9eae3cb4e3e859cf456e3547c6d",
      "value": " 1/1 [2:46:46&lt;00:00, 10006.17s/it]"
     }
    },
    "e7d8c3a4fecd40778e32966b29ea65a1": {
     "model_module": "@jupyter-widgets/controls",
     "model_module_version": "1.5.0",
     "model_name": "ProgressStyleModel",
     "state": {
      "_model_module": "@jupyter-widgets/controls",
      "_model_module_version": "1.5.0",
      "_model_name": "ProgressStyleModel",
      "_view_count": null,
      "_view_module": "@jupyter-widgets/base",
      "_view_module_version": "1.2.0",
      "_view_name": "StyleView",
      "bar_color": null,
      "description_width": "initial"
     }
    },
    "fe20a8dae6e84628b5076d02183090f5": {
     "model_module": "@jupyter-widgets/base",
     "model_module_version": "1.2.0",
     "model_name": "LayoutModel",
     "state": {
      "_model_module": "@jupyter-widgets/base",
      "_model_module_version": "1.2.0",
      "_model_name": "LayoutModel",
      "_view_count": null,
      "_view_module": "@jupyter-widgets/base",
      "_view_module_version": "1.2.0",
      "_view_name": "LayoutView",
      "align_content": null,
      "align_items": null,
      "align_self": null,
      "border": null,
      "bottom": null,
      "display": null,
      "flex": null,
      "flex_flow": null,
      "grid_area": null,
      "grid_auto_columns": null,
      "grid_auto_flow": null,
      "grid_auto_rows": null,
      "grid_column": null,
      "grid_gap": null,
      "grid_row": null,
      "grid_template_areas": null,
      "grid_template_columns": null,
      "grid_template_rows": null,
      "height": null,
      "justify_content": null,
      "justify_items": null,
      "left": null,
      "margin": null,
      "max_height": null,
      "max_width": null,
      "min_height": null,
      "min_width": null,
      "object_fit": null,
      "object_position": null,
      "order": null,
      "overflow": null,
      "overflow_x": null,
      "overflow_y": null,
      "padding": null,
      "right": null,
      "top": null,
      "visibility": null,
      "width": null
     }
    }
   }
  }
 },
 "nbformat": 4,
 "nbformat_minor": 1
}
