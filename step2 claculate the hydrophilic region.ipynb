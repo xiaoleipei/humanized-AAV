{
 "cells": [
  {
   "cell_type": "code",
   "execution_count": 1,
   "id": "191e1eab",
   "metadata": {},
   "outputs": [],
   "source": [
    "import re\n",
    "import pandas as pd\n",
    "import numpy as np"
   ]
  },
  {
   "cell_type": "code",
   "execution_count": 2,
   "id": "011a48f6",
   "metadata": {},
   "outputs": [],
   "source": [
    "fr=open('/human_uniprot-reviewed_yes+taxonomy_9606.fasta')  # all human protein fasta files\n",
    "fw=open('/out_human_all.fasta', 'w')  # output file of the selected protein"
   ]
  },
  {
   "cell_type": "code",
   "execution_count": 3,
   "id": "617afba1",
   "metadata": {},
   "outputs": [],
   "source": [
    "dict={}"
   ]
  },
  {
   "cell_type": "code",
   "execution_count": 4,
   "id": "c38d3265",
   "metadata": {},
   "outputs": [],
   "source": [
    "for line in fr:\n",
    "    if line.startswith('>'):\n",
    "        name1=line.split()[0]\n",
    "        rule = r'(.*?)\\|'\n",
    "        name ='>'+re.findall(rule, name1)[1]\n",
    "        dict[name]=''\n",
    "    else:\n",
    "        dict[name]+=line.replace('\\n','')\n"
   ]
  },
  {
   "cell_type": "code",
   "execution_count": 5,
   "id": "3a4386f5",
   "metadata": {},
   "outputs": [],
   "source": [
    "for ID in dict.keys():\n",
    "     fw.write(ID)\n",
    "     fw.write('\\n')\n",
    "     fw.write(dict[ID])\n",
    "     fw.write('\\n')"
   ]
  },
  {
   "cell_type": "code",
   "execution_count": 6,
   "id": "ed6ea6a3",
   "metadata": {},
   "outputs": [],
   "source": [
    "fw.close()"
   ]
  },
  {
   "cell_type": "code",
   "execution_count": 7,
   "id": "edc45cbe",
   "metadata": {},
   "outputs": [],
   "source": [
    "fr.close()"
   ]
  },
  {
   "cell_type": "code",
   "execution_count": null,
   "id": "bf2a5fb0",
   "metadata": {},
   "outputs": [],
   "source": [
    "##extracted by Uniprot ID"
   ]
  },
  {
   "cell_type": "code",
   "execution_count": 13,
   "id": "d7188011",
   "metadata": {},
   "outputs": [],
   "source": [
    "protein = pd.read_csv(\"D:/jupyter_notebook/humanized AAV pepline/human_sec_tm_protein_id.csv\", encoding='utf-8')  \n",
    "protein = np.array(protein.iloc[:,0])\n",
    "fw=open('D:/jupyter_notebook/humanized AAV pepline/human_sec_tm_aa.fasta', 'w')\n",
    "# print(protein)\n",
    "id_ok = []\n",
    "for ID in dict.keys():\n",
    "    # print(ID)\n",
    "    if ID in protein:  # ['Q2XN56','A0A5C2GFH1','Q86TH5','Q8N8B7']\n",
    "        # print('ok!')\n",
    "        id_ok.append(ID)\n",
    "        fw.write('>')\n",
    "        fw.write(ID)\n",
    "        fw.write('\\n')\n",
    "        fw.write(dict[ID])\n",
    "        fw.write('\\n')\n",
    "    \n",
    "fw.close()"
   ]
  },
  {
   "cell_type": "code",
   "execution_count": null,
   "id": "a1f97d6f",
   "metadata": {},
   "outputs": [],
   "source": [
    "###calculate the hydrophilicity region，peptides length is 20aa, step is 12aa，overlap 3aa "
   ]
  },
  {
   "cell_type": "code",
   "execution_count": 1,
   "id": "f2164c60",
   "metadata": {},
   "outputs": [],
   "source": [
    "import re\n",
    "import pandas as pd\n",
    "import numpy as np\n",
    "from Bio.SeqUtils.ProtParam import ProteinAnalysis"
   ]
  },
  {
   "cell_type": "code",
   "execution_count": 31,
   "id": "70e9376b",
   "metadata": {},
   "outputs": [],
   "source": [
    "fr=open('D:/jupyter_notebook/humanized AAV pepline/virus_aa_seq.fasta')\n",
    "fw=open('D:/jupyter_notebook/humanized AAV pepline/virus_peptide_gravy.fasta', 'w')  \n",
    "dict={}"
   ]
  },
  {
   "cell_type": "code",
   "execution_count": 32,
   "id": "b9fc7ca9",
   "metadata": {},
   "outputs": [],
   "source": [
    "for line in fr:\n",
    "         if line.startswith('>'):\n",
    "             name=line.replace('\\n','')\n",
    "         else:\n",
    "                n = len(line)\n",
    "                left = 0;\n",
    "                i=1;\n",
    "                while left<(n-20):\n",
    "                     region1=line[left:(left+20)]\n",
    "                     region1=region1.replace('\\n','')\n",
    "                     analyzed_seq = ProteinAnalysis(str(region1))\n",
    "                     hydropho=analyzed_seq.gravy()\n",
    "                     if (hydropho<(-1)):\n",
    "                            fw.write(region1)\n",
    "                            fw.write('\\n')\n",
    "                            fw.write(str(hydropho))\n",
    "                            fw.write('\\n')\n",
    "                            left=left+12\n",
    "                     else:\n",
    "                            left=left+1"
   ]
  },
  {
   "cell_type": "code",
   "execution_count": 33,
   "id": "c6b70558",
   "metadata": {},
   "outputs": [],
   "source": [
    "fr.close()\n",
    "fw.close()"
   ]
  },
  {
   "cell_type": "code",
   "execution_count": null,
   "id": "b54ef1f6",
   "metadata": {},
   "outputs": [],
   "source": [
    "#Table operation to select the low hydrophilicity sequence"
   ]
  },
  {
   "cell_type": "code",
   "execution_count": null,
   "id": "99d0ead3",
   "metadata": {},
   "outputs": [],
   "source": [
    "#CD-HIT to remove the redundant sequence, cutoff=0.8，run by linux\n",
    "# cdhit -i virus_peptide_gravy_top100k.fasta -o virus_peptide_gravy_top100k_0.8.fasta -c 0.8 -d 0\n",
    "# cdhit -i human_sectm_peptide_gravy_top50k_2.fasta -o human_sectm_peptide_gravy_top50k_0.8.fasta -c 0.8 -d 0\n"
   ]
  },
  {
   "cell_type": "code",
   "execution_count": null,
   "id": "4f6c9d21",
   "metadata": {},
   "outputs": [],
   "source": [
    "#calculate the hydrophilicity region"
   ]
  },
  {
   "cell_type": "code",
   "execution_count": 2,
   "id": "a10c92f9",
   "metadata": {},
   "outputs": [],
   "source": [
    "fr=open('virus_aa_seq.fasta')\n",
    "fw=open('./20p_virus less1.fasta', 'w')  # output seq file\n",
    "dict={}"
   ]
  },
  {
   "cell_type": "code",
   "execution_count": 4,
   "id": "3ef01a0e",
   "metadata": {},
   "outputs": [],
   "source": [
    "for line in fr:\n",
    "         if line.startswith('>'):\n",
    "             name=line.replace('\\n','')\n",
    "         else:\n",
    "                n = len(line)\n",
    "                left = 0;\n",
    "                i=1;\n",
    "                while left<(n-20):\n",
    "                     region1=line[left:(left+20)]\n",
    "                     region1=region1.replace('\\n','')\n",
    "                     analyzed_seq = ProteinAnalysis(str(region1))\n",
    "                     hydropho=analyzed_seq.gravy()\n",
    "                     if (hydropho<(-1)):\n",
    "                            fw.write(region1)\n",
    "                            fw.write('\\n')\n",
    "                            left=left+15\n",
    "                     else:\n",
    "                            left=left+1\n",
    "\n",
    "fr.close()\n",
    "fw.close()"
   ]
  }
 ],
 "metadata": {
  "kernelspec": {
   "display_name": "Python 3",
   "language": "python",
   "name": "python3"
  },
  "language_info": {
   "codemirror_mode": {
    "name": "ipython",
    "version": 3
   },
   "file_extension": ".py",
   "mimetype": "text/x-python",
   "name": "python",
   "nbconvert_exporter": "python",
   "pygments_lexer": "ipython3",
   "version": "3.8.8"
  }
 },
 "nbformat": 4,
 "nbformat_minor": 5
}
