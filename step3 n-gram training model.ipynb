{
 "cells": [
  {
   "cell_type": "markdown",
   "id": "2c607f82",
   "metadata": {},
   "source": [
    "### Predicting Protein Classification ngram ngran"
   ]
  },
  {
   "cell_type": "code",
   "execution_count": 1,
   "id": "5d15a350",
   "metadata": {},
   "outputs": [
    {
     "name": "stderr",
     "output_type": "stream",
     "text": [
      "C:\\Users\\racoon\\anaconda3\\lib\\site-packages\\numpy\\_distributor_init.py:30: UserWarning: loaded more than 1 DLL from .libs:\n",
      "C:\\Users\\racoon\\anaconda3\\lib\\site-packages\\numpy\\.libs\\libopenblas.QVLO2T66WEPI7JZ63PS3HMOHFEY472BC.gfortran-win_amd64.dll\n",
      "C:\\Users\\racoon\\anaconda3\\lib\\site-packages\\numpy\\.libs\\libopenblas.WCDJNK7YVMPZQ2ME2ZZHJJRJ3JIKNDB7.gfortran-win_amd64.dll\n",
      "  warnings.warn(\"loaded more than 1 DLL from .libs:\"\n"
     ]
    }
   ],
   "source": [
    "import pandas as pd\n",
    "import numpy as np\n",
    "from matplotlib import pyplot as plt\n",
    "import seaborn as sns\n",
    "from sklearn.feature_extraction.text import CountVectorizer\n",
    "from sklearn.model_selection import train_test_split\n",
    "from sklearn.metrics import accuracy_score, confusion_matrix, classification_report"
   ]
  },
  {
   "cell_type": "markdown",
   "id": "d87f1ee6",
   "metadata": {},
   "source": [
    "# 2). ----- Filter and Process Dataset ------"
   ]
  },
  {
   "cell_type": "code",
   "execution_count": 2,
   "id": "e65208d1",
   "metadata": {},
   "outputs": [
    {
     "name": "stdout",
     "output_type": "stream",
     "text": [
      "14002 is the number of rows in the joined dataset\n",
      "14002 is the number of proteins that have a classification and sequence\n",
      "human    7002\n",
      "virus    7000\n",
      "Name: classification, dtype: int64\n"
     ]
    },
    {
     "name": "stderr",
     "output_type": "stream",
     "text": [
      "C:\\Users\\racoon\\anaconda3\\lib\\site-packages\\seaborn\\distributions.py:2557: FutureWarning: `distplot` is a deprecated function and will be removed in a future version. Please adapt your code to use either `displot` (a figure-level function with similar flexibility) or `kdeplot` (an axes-level function for kernel density plots).\n",
      "  warnings.warn(msg, FutureWarning)\n"
     ]
    },
    {
     "data": {
      "image/png": "[encoded data removed]",
      "text/plain": [
       "<Figure size 432x288 with 1 Axes>"
      ]
     },
     "metadata": {
      "needs_background": "light"
     },
     "output_type": "display_data"
    },
    {
     "name": "stdout",
     "output_type": "stream",
     "text": [
      "['human' 'virus']\n",
      "14002 is the number of records in the final filtered dataset\n"
     ]
    }
   ],
   "source": [
    "model_f=pd.read_csv('D:/jupyter_notebook/TAPE training/human_virus2.csv')\n",
    "\n",
    "model_f\n",
    "\n",
    "print('%d is the number of rows in the joined dataset' %model_f.shape[0])\n",
    "\n",
    "# Check NA counts\n",
    "model_f.isnull().sum()\n",
    "\n",
    "# Drop rows with missing values\n",
    "model_f = model_f.dropna()\n",
    "print('%d is the number of proteins that have a classification and sequence' %model_f.shape[0])\n",
    "\n",
    "# Look at classification type counts\n",
    "counts = model_f.classification.value_counts()\n",
    "print(counts)\n",
    "\n",
    "#plot counts\n",
    "plt.figure()\n",
    "sns.distplot(counts, hist = False, color = 'purple')\n",
    "plt.title('Count Distribution for Family Types')\n",
    "plt.ylabel('% of records')\n",
    "plt.show()\n",
    "\n",
    "# Get classification types where counts are over 1000\n",
    "types = np.asarray(counts[(counts > 1)].index)\n",
    "\n",
    "# Filter dataset's records for classification types > 1000\n",
    "data = model_f[model_f.classification.isin(types)]\n",
    "\n",
    "print(types)\n",
    "print('%d is the number of records in the final filtered dataset' %data.shape[0])"
   ]
  },
  {
   "cell_type": "code",
   "execution_count": 3,
   "id": "343677a8",
   "metadata": {},
   "outputs": [
    {
     "data": {
      "text/plain": [
       "array(['human', 'virus'], dtype=object)"
      ]
     },
     "execution_count": 3,
     "metadata": {},
     "output_type": "execute_result"
    }
   ],
   "source": [
    "types"
   ]
  },
  {
   "cell_type": "markdown",
   "id": "cf926c3c",
   "metadata": {},
   "source": [
    "# 3). ----- Train Test Split -----"
   ]
  },
  {
   "cell_type": "code",
   "execution_count": 4,
   "id": "223be3a5",
   "metadata": {},
   "outputs": [
    {
     "name": "stdout",
     "output_type": "stream",
     "text": [
      "['a', 'c', 'd', 'e', 'f', 'g', 'h', 'i', 'k', 'l', 'm', 'n', 'p', 'q', 'r', 's', 't', 'v', 'w', 'y']\n"
     ]
    }
   ],
   "source": [
    "# Split Data\n",
    "X_train, X_test,y_train,y_test = train_test_split(data['sequence'], data['classification'], test_size = 0.2, random_state = 1)\n",
    "\n",
    "# Create a Count Vectorizer to gather the unique elements in sequence\n",
    "vect = CountVectorizer(analyzer = 'char_wb', ngram_range = (1,1))\n",
    "\n",
    "# Fit and Transform CountVectorizer\n",
    "vect.fit(X_train)\n",
    "\n",
    "X_train_df = vect.transform(X_train)\n",
    "\n",
    "X_test_df = vect.transform(X_test)\n",
    "\n",
    "#Print a few of the features\n",
    "print(vect.get_feature_names()[-20:])"
   ]
  },
  {
   "cell_type": "markdown",
   "id": "18b95005",
   "metadata": {},
   "source": [
    "# 4). ------ Machine Learning Models ------"
   ]
  },
  {
   "cell_type": "code",
   "execution_count": 5,
   "id": "c89e60a2",
   "metadata": {},
   "outputs": [
    {
     "name": "stdout",
     "output_type": "stream",
     "text": [
      "0.7168868261335237\n",
      "0.8043555872902535\n",
      "              precision    recall  f1-score   support\n",
      "\n",
      "       human       0.73      0.69      0.71      1398\n",
      "       virus       0.71      0.74      0.72      1403\n",
      "\n",
      "    accuracy                           0.72      2801\n",
      "   macro avg       0.72      0.72      0.72      2801\n",
      "weighted avg       0.72      0.72      0.72      2801\n",
      "\n",
      "{'MultinomialNB': 0.7168868261335237, 'Adaboost': 0.8043555872902535, 'LinearSVC': 0.7875758657622278}\n"
     ]
    },
    {
     "name": "stderr",
     "output_type": "stream",
     "text": [
      "C:\\Users\\racoon\\anaconda3\\lib\\site-packages\\sklearn\\svm\\_base.py:985: ConvergenceWarning: Liblinear failed to converge, increase the number of iterations.\n",
      "  warnings.warn(\"Liblinear failed to converge, increase \"\n"
     ]
    },
    {
     "data": {
      "image/png": "[encoded data removed]",
      "text/plain": [
       "<Figure size 936x576 with 2 Axes>"
      ]
     },
     "metadata": {
      "needs_background": "light"
     },
     "output_type": "display_data"
    }
   ],
   "source": [
    "# Make a prediction dictionary to store accuracys\n",
    "prediction = dict()\n",
    "\n",
    "from sklearn.naive_bayes import MultinomialNB\n",
    "\n",
    "model = MultinomialNB()\n",
    "\n",
    "model.fit(X_train_df, y_train)\n",
    "\n",
    "NB_pred = model.predict(X_test_df)\n",
    "\n",
    "NB_pred\n",
    "\n",
    "prediction[\"MultinomialNB\"] = accuracy_score(NB_pred, y_test)\n",
    "\n",
    "print( prediction['MultinomialNB'])\n",
    "\n",
    "# Adaboost\n",
    "from sklearn.ensemble import AdaBoostClassifier\n",
    "\n",
    "model = AdaBoostClassifier()\n",
    "\n",
    "model.fit(X_train_df,y_train)\n",
    "\n",
    "ADA_pred = model.predict(X_test_df)\n",
    "\n",
    "prediction[\"Adaboost\"] = accuracy_score(ADA_pred , y_test)\n",
    "\n",
    "print(prediction[\"Adaboost\"])\n",
    "\n",
    "# 5). ----- Plot Confusion Matrix for NB -----\n",
    "\n",
    "# Plot confusion matrix\n",
    "conf_mat = confusion_matrix(y_test, NB_pred, labels = types)\n",
    "\n",
    "#Normalize confusion_matrix\n",
    "conf_mat = conf_mat.astype('float')/ conf_mat.sum(axis=1)[:, np.newaxis]\n",
    "\n",
    "# Plot Heat Map\n",
    "fig , ax = plt.subplots()\n",
    "fig.set_size_inches(13, 8)\n",
    "sns.heatmap(conf_mat)\n",
    "\n",
    "#Print F1 score metrics\n",
    "print(classification_report(y_test, NB_pred, target_names = types))\n",
    "\n",
    "#SVM\n",
    "\n",
    "from sklearn.svm import LinearSVC\n",
    "\n",
    "model = LinearSVC()\n",
    "\n",
    "model.fit(X_train_df,y_train)\n",
    "\n",
    "svm_pred = model.predict(X_test_df)\n",
    "\n",
    "prediction[\"LinearSVC\"] = accuracy_score(svm_pred, y_test)\n",
    "\n",
    "print(prediction)"
   ]
  },
  {
   "cell_type": "code",
   "execution_count": 8,
   "id": "3813f73d",
   "metadata": {},
   "outputs": [
    {
     "data": {
      "text/plain": [
       "numpy.ndarray"
      ]
     },
     "execution_count": 8,
     "metadata": {},
     "output_type": "execute_result"
    }
   ],
   "source": [
    "type(types)"
   ]
  },
  {
   "cell_type": "markdown",
   "id": "4292d6ae",
   "metadata": {},
   "source": [
    "#SVM分析模型可视化"
   ]
  },
  {
   "cell_type": "code",
   "execution_count": 167,
   "id": "7e4f7a3f",
   "metadata": {},
   "outputs": [],
   "source": [
    "from sklearn.datasets import make_blobs\n",
    "from sklearn.svm import SVC\n",
    "import matplotlib.pyplot as plt\n",
    "import numpy as np"
   ]
  },
  {
   "cell_type": "code",
   "execution_count": null,
   "id": "0646ec32",
   "metadata": {},
   "outputs": [],
   "source": []
  },
  {
   "cell_type": "markdown",
   "id": "35e65601",
   "metadata": {},
   "source": [
    "predict AAV"
   ]
  },
  {
   "cell_type": "code",
   "execution_count": 265,
   "id": "5d17efe2",
   "metadata": {},
   "outputs": [],
   "source": [
    "test_aav=pd.read_csv('D:/jupyter_notebook/TAPE training/test_aav.csv')"
   ]
  },
  {
   "cell_type": "code",
   "execution_count": 270,
   "id": "5fb7fcb3",
   "metadata": {},
   "outputs": [],
   "source": [
    "test_aav=test_aav[\"sequence\"]"
   ]
  },
  {
   "cell_type": "code",
   "execution_count": 271,
   "id": "15aa8ffc",
   "metadata": {},
   "outputs": [
    {
     "data": {
      "text/plain": [
       "0      DGYLPDWLEDNLSEGIREWW\n",
       "1      IREWWDLKPGAPKPKANQQK\n",
       "2      ANQQKQDDGRGLVLPGYKYL\n",
       "3      DAAALEHDKAYDQQLKAGDN\n",
       "4      KAGDNPYLRYNHADAEFQER\n",
       "               ...         \n",
       "797    GKQNAARDNADYSDVMLTSE\n",
       "798    KNTPVPADPPTTFNQSKLNS\n",
       "799    TQYSTGQVSVEIEWELQKEN\n",
       "800    LQKENSKRWNPEIQYTSNYY\n",
       "801    NTEGVYSEPHPIGTRYLTRP\n",
       "Name: sequence, Length: 802, dtype: object"
      ]
     },
     "execution_count": 271,
     "metadata": {},
     "output_type": "execute_result"
    }
   ],
   "source": [
    "test_aav"
   ]
  },
  {
   "cell_type": "code",
   "execution_count": 275,
   "id": "d2354516",
   "metadata": {},
   "outputs": [],
   "source": [
    "test_aav_df = vect.transform(test_aav)"
   ]
  },
  {
   "cell_type": "code",
   "execution_count": 276,
   "id": "41e5e83b",
   "metadata": {},
   "outputs": [
    {
     "data": {
      "text/plain": [
       "<802x128578 sparse matrix of type '<class 'numpy.int64'>'\n",
       "\twith 13925 stored elements in Compressed Sparse Row format>"
      ]
     },
     "execution_count": 276,
     "metadata": {},
     "output_type": "execute_result"
    }
   ],
   "source": [
    "test_aav_df"
   ]
  },
  {
   "cell_type": "code",
   "execution_count": 281,
   "id": "31c5efe0",
   "metadata": {},
   "outputs": [],
   "source": [
    "svm_pred_aav = model.predict(test_aav_df)"
   ]
  },
  {
   "cell_type": "code",
   "execution_count": 285,
   "id": "fc6b9c4e",
   "metadata": {},
   "outputs": [
    {
     "ename": "TypeError",
     "evalue": "Mismatch between array dtype ('object') and format specifier ('%.18e')",
     "output_type": "error",
     "traceback": [
      "\u001b[1;31m---------------------------------------------------------------------------\u001b[0m",
      "\u001b[1;31mTypeError\u001b[0m                                 Traceback (most recent call last)",
      "\u001b[1;32m~\\AppData\\Roaming\\Python\\Python38\\site-packages\\numpy\\lib\\npyio.py\u001b[0m in \u001b[0;36msavetxt\u001b[1;34m(fname, X, fmt, delimiter, newline, header, footer, comments, encoding)\u001b[0m\n\u001b[0;32m   1423\u001b[0m                 \u001b[1;32mtry\u001b[0m\u001b[1;33m:\u001b[0m\u001b[1;33m\u001b[0m\u001b[1;33m\u001b[0m\u001b[0m\n\u001b[1;32m-> 1424\u001b[1;33m                     \u001b[0mv\u001b[0m \u001b[1;33m=\u001b[0m \u001b[0mformat\u001b[0m \u001b[1;33m%\u001b[0m \u001b[0mtuple\u001b[0m\u001b[1;33m(\u001b[0m\u001b[0mrow\u001b[0m\u001b[1;33m)\u001b[0m \u001b[1;33m+\u001b[0m \u001b[0mnewline\u001b[0m\u001b[1;33m\u001b[0m\u001b[1;33m\u001b[0m\u001b[0m\n\u001b[0m\u001b[0;32m   1425\u001b[0m                 \u001b[1;32mexcept\u001b[0m \u001b[0mTypeError\u001b[0m\u001b[1;33m:\u001b[0m\u001b[1;33m\u001b[0m\u001b[1;33m\u001b[0m\u001b[0m\n",
      "\u001b[1;31mTypeError\u001b[0m: must be real number, not str",
      "\nDuring handling of the above exception, another exception occurred:\n",
      "\u001b[1;31mTypeError\u001b[0m                                 Traceback (most recent call last)",
      "\u001b[1;32m<ipython-input-285-f478951bc42a>\u001b[0m in \u001b[0;36m<module>\u001b[1;34m\u001b[0m\n\u001b[1;32m----> 1\u001b[1;33m \u001b[0mnp\u001b[0m\u001b[1;33m.\u001b[0m\u001b[0msavetxt\u001b[0m\u001b[1;33m(\u001b[0m\u001b[1;34m\"D:/jupyter_notebook/TAPE training/aav_peptide_predict_svm.csv\"\u001b[0m\u001b[1;33m,\u001b[0m\u001b[0msvm_pred_aav\u001b[0m\u001b[1;33m,\u001b[0m \u001b[0mdelimiter\u001b[0m\u001b[1;33m=\u001b[0m\u001b[1;34m\",\"\u001b[0m\u001b[1;33m)\u001b[0m\u001b[1;33m\u001b[0m\u001b[1;33m\u001b[0m\u001b[0m\n\u001b[0m",
      "\u001b[1;32m<__array_function__ internals>\u001b[0m in \u001b[0;36msavetxt\u001b[1;34m(*args, **kwargs)\u001b[0m\n",
      "\u001b[1;32m~\\AppData\\Roaming\\Python\\Python38\\site-packages\\numpy\\lib\\npyio.py\u001b[0m in \u001b[0;36msavetxt\u001b[1;34m(fname, X, fmt, delimiter, newline, header, footer, comments, encoding)\u001b[0m\n\u001b[0;32m   1424\u001b[0m                     \u001b[0mv\u001b[0m \u001b[1;33m=\u001b[0m \u001b[0mformat\u001b[0m \u001b[1;33m%\u001b[0m \u001b[0mtuple\u001b[0m\u001b[1;33m(\u001b[0m\u001b[0mrow\u001b[0m\u001b[1;33m)\u001b[0m \u001b[1;33m+\u001b[0m \u001b[0mnewline\u001b[0m\u001b[1;33m\u001b[0m\u001b[1;33m\u001b[0m\u001b[0m\n\u001b[0;32m   1425\u001b[0m                 \u001b[1;32mexcept\u001b[0m \u001b[0mTypeError\u001b[0m\u001b[1;33m:\u001b[0m\u001b[1;33m\u001b[0m\u001b[1;33m\u001b[0m\u001b[0m\n\u001b[1;32m-> 1426\u001b[1;33m                     raise TypeError(\"Mismatch between array dtype ('%s') and \"\n\u001b[0m\u001b[0;32m   1427\u001b[0m                                     \u001b[1;34m\"format specifier ('%s')\"\u001b[0m\u001b[1;33m\u001b[0m\u001b[1;33m\u001b[0m\u001b[0m\n\u001b[0;32m   1428\u001b[0m                                     % (str(X.dtype), format))\n",
      "\u001b[1;31mTypeError\u001b[0m: Mismatch between array dtype ('object') and format specifier ('%.18e')"
     ]
    }
   ],
   "source": [
    "np.savetxt(\"D:/jupyter_notebook/TAPE training/aav_peptide_predict_svm.csv\",svm_pred_aav, delimiter=\",\")"
   ]
  },
  {
   "cell_type": "code",
   "execution_count": 287,
   "id": "f1336dff",
   "metadata": {},
   "outputs": [
    {
     "ename": "ValueError",
     "evalue": "fmt has wrong number of % formats:  %s, %f",
     "output_type": "error",
     "traceback": [
      "\u001b[1;31m---------------------------------------------------------------------------\u001b[0m",
      "\u001b[1;31mValueError\u001b[0m                                Traceback (most recent call last)",
      "\u001b[1;32m<ipython-input-287-b931f5ab8860>\u001b[0m in \u001b[0;36m<module>\u001b[1;34m\u001b[0m\n\u001b[1;32m----> 1\u001b[1;33m \u001b[0mnp\u001b[0m\u001b[1;33m.\u001b[0m\u001b[0msavetxt\u001b[0m\u001b[1;33m(\u001b[0m\u001b[1;34mr'D:/jupyter_notebook/TAPE training/aav_peptide_predict_svm.csv'\u001b[0m\u001b[1;33m,\u001b[0m\u001b[0msvm_pred_aav\u001b[0m\u001b[1;33m,\u001b[0m\u001b[0mdelimiter\u001b[0m\u001b[1;33m=\u001b[0m\u001b[1;34m','\u001b[0m\u001b[1;33m,\u001b[0m \u001b[0mfmt\u001b[0m\u001b[1;33m=\u001b[0m\u001b[1;33m(\u001b[0m\u001b[1;34m'%s, %f'\u001b[0m\u001b[1;33m)\u001b[0m\u001b[1;33m)\u001b[0m\u001b[1;33m\u001b[0m\u001b[1;33m\u001b[0m\u001b[0m\n\u001b[0m",
      "\u001b[1;32m<__array_function__ internals>\u001b[0m in \u001b[0;36msavetxt\u001b[1;34m(*args, **kwargs)\u001b[0m\n",
      "\u001b[1;32m~\\AppData\\Roaming\\Python\\Python38\\site-packages\\numpy\\lib\\npyio.py\u001b[0m in \u001b[0;36msavetxt\u001b[1;34m(fname, X, fmt, delimiter, newline, header, footer, comments, encoding)\u001b[0m\n\u001b[0;32m   1402\u001b[0m                 \u001b[1;32mraise\u001b[0m \u001b[0merror\u001b[0m\u001b[1;33m\u001b[0m\u001b[1;33m\u001b[0m\u001b[0m\n\u001b[0;32m   1403\u001b[0m             \u001b[1;32melif\u001b[0m \u001b[1;33m(\u001b[0m\u001b[1;33m(\u001b[0m\u001b[1;32mnot\u001b[0m \u001b[0miscomplex_X\u001b[0m\u001b[1;33m)\u001b[0m \u001b[1;32mand\u001b[0m \u001b[0mn_fmt_chars\u001b[0m \u001b[1;33m!=\u001b[0m \u001b[0mncol\u001b[0m\u001b[1;33m)\u001b[0m\u001b[1;33m:\u001b[0m\u001b[1;33m\u001b[0m\u001b[1;33m\u001b[0m\u001b[0m\n\u001b[1;32m-> 1404\u001b[1;33m                 \u001b[1;32mraise\u001b[0m \u001b[0merror\u001b[0m\u001b[1;33m\u001b[0m\u001b[1;33m\u001b[0m\u001b[0m\n\u001b[0m\u001b[0;32m   1405\u001b[0m             \u001b[1;32melse\u001b[0m\u001b[1;33m:\u001b[0m\u001b[1;33m\u001b[0m\u001b[1;33m\u001b[0m\u001b[0m\n\u001b[0;32m   1406\u001b[0m                 \u001b[0mformat\u001b[0m \u001b[1;33m=\u001b[0m \u001b[0mfmt\u001b[0m\u001b[1;33m\u001b[0m\u001b[1;33m\u001b[0m\u001b[0m\n",
      "\u001b[1;31mValueError\u001b[0m: fmt has wrong number of % formats:  %s, %f"
     ]
    }
   ],
   "source": [
    "np.savetxt(r'D:/jupyter_notebook/TAPE training/aav_peptide_predict_svm.csv',svm_pred_aav,delimiter=',', fmt=('%s, %f'))"
   ]
  },
  {
   "cell_type": "code",
   "execution_count": 289,
   "id": "89bdf734",
   "metadata": {},
   "outputs": [],
   "source": [
    "svm_pred_aav=pd.DataFrame(svm_pred_aav)"
   ]
  },
  {
   "cell_type": "code",
   "execution_count": 291,
   "id": "25579516",
   "metadata": {},
   "outputs": [],
   "source": [
    "svm_pred_aav.to_csv(\"D:/jupyter_notebook/TAPE training/aav_peptide_predict_svm.csv\")"
   ]
  }
 ],
 "metadata": {
  "kernelspec": {
   "display_name": "Python 3",
   "language": "python",
   "name": "python3"
  },
  "language_info": {
   "codemirror_mode": {
    "name": "ipython",
    "version": 3
   },
   "file_extension": ".py",
   "mimetype": "text/x-python",
   "name": "python",
   "nbconvert_exporter": "python",
   "pygments_lexer": "ipython3",
   "version": "3.8.8"
  }
 },
 "nbformat": 4,
 "nbformat_minor": 5
}
